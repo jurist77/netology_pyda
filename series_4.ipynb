{
 "cells": [
  {
   "cell_type": "markdown",
   "metadata": {},
   "source": [
    "## Домашнее задание\n",
    "\n",
    "- Скачайте текст войны и мир (ссылка на [github](https://github.com/netology-code/ds3-spring-2018/tree/master/7.%20Time_series/7.4/war_and_peace) и [гугл диск](https://drive.google.com/drive/u/2/folders/1aM7cNI6Qs7AyeYpQ8lNg7vLsHzIl0JbU)). Очистите его, оставив только русские буквы и символы пробела. Постройте матрицу переходных вероятностей. Посчитайте вероятность встретить строку из 4-х символов, которая начинается п, а кончается на р; Используя матрицу переходных вероятностей сгенерируйте слово, начинающееся с буквы \"Б\" и имеющее длину 8-мь символов\n"
   ]
  },
  {
   "cell_type": "code",
   "execution_count": 346,
   "metadata": {},
   "outputs": [
    {
     "name": "stdout",
     "output_type": "stream",
     "text": [
      "Collecting hmmlearn\n",
      "  Downloading https://files.pythonhosted.org/packages/e7/f8/443412c9b6b4e33bf33cfb387bb03496bbe85fc87c9d4dced86e9ae40a6d/hmmlearn-0.2.3-cp37-cp37m-win_amd64.whl (111kB)\n",
      "Requirement already satisfied: scipy>=0.15 in c:\\programdata\\anaconda3\\lib\\site-packages (from hmmlearn) (1.2.1)\n",
      "Requirement already satisfied: scikit-learn>=0.16 in c:\\programdata\\anaconda3\\lib\\site-packages (from hmmlearn) (0.22)\n",
      "Requirement already satisfied: numpy>=1.10 in c:\\programdata\\anaconda3\\lib\\site-packages (from hmmlearn) (1.16.4)\n",
      "Requirement already satisfied: joblib>=0.11 in c:\\programdata\\anaconda3\\lib\\site-packages (from scikit-learn>=0.16->hmmlearn) (0.13.2)\n",
      "Installing collected packages: hmmlearn\n",
      "Successfully installed hmmlearn-0.2.3\n",
      "Note: you may need to restart the kernel to use updated packages.\n"
     ]
    }
   ],
   "source": [
    "pip install hmmlearn"
   ]
  },
  {
   "cell_type": "code",
   "execution_count": 347,
   "metadata": {},
   "outputs": [],
   "source": [
    "import numpy as np\n",
    "import re\n",
    "import matplotlib.pyplot as plt\n",
    "import seaborn as sns\n",
    "import pandas as pd\n",
    "%matplotlib inline\n",
    "import seaborn as sns\n",
    "import glob\n",
    "from hmmlearn.hmm import GaussianHMM"
   ]
  },
  {
   "cell_type": "code",
   "execution_count": 242,
   "metadata": {},
   "outputs": [
    {
     "data": {
      "text/plain": [
       "['alice_en.txt',\n",
       " 'alice_ru.txt',\n",
       " 'book.txt',\n",
       " 'tom_1.txt',\n",
       " 'tom_2.txt',\n",
       " 'tom_3.txt',\n",
       " 'tom_4.txt']"
      ]
     },
     "execution_count": 242,
     "metadata": {},
     "output_type": "execute_result"
    }
   ],
   "source": [
    "read_files = glob.glob(\"*.txt\")\n",
    "read_files"
   ]
  },
  {
   "cell_type": "code",
   "execution_count": 243,
   "metadata": {},
   "outputs": [],
   "source": [
    "files = ['tom_1.txt',\n",
    " 'tom_2.txt',\n",
    " 'tom_3.txt',\n",
    " 'tom_4.txt']"
   ]
  },
  {
   "cell_type": "code",
   "execution_count": 295,
   "metadata": {},
   "outputs": [],
   "source": [
    "with open('book.txt', 'w') as book:\n",
    "    for i in files:\n",
    "        with open(i, 'r', encoding='UTF-8') as f:\n",
    "            book.write(f.read())\n",
    "book.close()"
   ]
  },
  {
   "cell_type": "code",
   "execution_count": 296,
   "metadata": {},
   "outputs": [],
   "source": [
    "with open('book.txt', 'r') as f:\n",
    "    text = f.read().lower()\n",
    "text = re.sub('[^а-яё ]','', text)"
   ]
  },
  {
   "cell_type": "code",
   "execution_count": 297,
   "metadata": {},
   "outputs": [],
   "source": [
    "# определяем алфавит\n",
    "alphabet = 'абвгдеёжзийклмнопрстуфхцчшщъыьэюя '\n",
    "\n",
    "# создаем словарь соответствия буквы и ее позиции в алфавите\n",
    "position = {w: p for p, w in enumerate(alphabet)}"
   ]
  },
  {
   "cell_type": "code",
   "execution_count": 298,
   "metadata": {},
   "outputs": [],
   "source": [
    "# задаем матрицу вероятностей перехода букв (по деволту нули, потом будем добавлять значения)\n",
    "probabilities = np.zeros((len(alphabet), len(alphabet)))"
   ]
  },
  {
   "cell_type": "code",
   "execution_count": 299,
   "metadata": {},
   "outputs": [],
   "source": [
    "# делаем счетчик количества встречающихся пар букв в тексте (то есть по парных переходов)\n",
    "for i, j in zip(text[:-1], text[1:]):\n",
    "    probabilities[position[i], position[j]] += 1"
   ]
  },
  {
   "cell_type": "code",
   "execution_count": 300,
   "metadata": {},
   "outputs": [],
   "source": [
    "# считаем вероятность перехода по строчно (1 строка как буква А переходит во все другие буквы и тд виз по матрице)\n",
    "probabilities = (probabilities / probabilities.sum(axis=1)[:, None])"
   ]
  },
  {
   "cell_type": "code",
   "execution_count": 301,
   "metadata": {},
   "outputs": [],
   "source": [
    "# переводим матрицу в датафрейм\n",
    "df = pd.DataFrame(probabilities, index=(c for c in alphabet), columns=(c for c in alphabet))"
   ]
  },
  {
   "cell_type": "code",
   "execution_count": 305,
   "metadata": {},
   "outputs": [
    {
     "data": {
      "text/plain": [
       "Index(['а', 'б', 'в', 'г', 'д', 'е', 'ё', 'ж', 'з', 'и', 'й', 'к', 'л', 'м',\n",
       "       'н', 'о', 'п', 'р', 'с', 'т', 'у', 'ф', 'х', 'ц', 'ч', 'ш', 'щ', 'ъ',\n",
       "       'ы', 'ь', 'э', 'ю', 'я', ' '],\n",
       "      dtype='object')"
      ]
     },
     "execution_count": 305,
     "metadata": {},
     "output_type": "execute_result"
    }
   ],
   "source": [
    "df.columns"
   ]
  },
  {
   "cell_type": "code",
   "execution_count": 316,
   "metadata": {},
   "outputs": [
    {
     "data": {
      "text/plain": [
       "<matplotlib.axes._subplots.AxesSubplot at 0x16a06ebf9e8>"
      ]
     },
     "execution_count": 316,
     "metadata": {},
     "output_type": "execute_result"
    },
    {
     "data": {
      "image/png": "[encoded data removed]",
      "text/plain": [
       "<Figure size 1440x1008 with 2 Axes>"
      ]
     },
     "metadata": {
      "needs_background": "light"
     },
     "output_type": "display_data"
    }
   ],
   "source": [
    "plt.figure(figsize=(20,14))\n",
    "sns.heatmap(df, \n",
    "            xticklabels=['а', 'б', 'в', 'г', 'д', 'е', 'ё', 'ж', 'з', 'и', 'й', 'к', 'л', 'м',\n",
    "       'н', 'о', 'п', 'р', 'с', 'т', 'у', 'ф', 'х', 'ц', 'ч', 'ш', 'щ', 'ъ',\n",
    "       'ы', 'ь', 'э', 'ю', 'я', ''],\n",
    "            yticklabels=['а', 'б', 'в', 'г', 'д', 'е', 'ё', 'ж', 'з', 'и', 'й', 'к', 'л', 'м',\n",
    "       'н', 'о', 'п', 'р', 'с', 'т', 'у', 'ф', 'х', 'ц', 'ч', 'ш', 'щ', 'ъ',\n",
    "       'ы', 'ь', 'э', 'ю', 'я', ''])"
   ]
  },
  {
   "cell_type": "code",
   "execution_count": 294,
   "metadata": {},
   "outputs": [
    {
     "name": "stdout",
     "output_type": "stream",
     "text": [
      "паар 2.5207649190691473e-07\n",
      "пабр 2.2100055338680835e-06\n",
      "павр 2.2364248211760067e-06\n",
      "пагр 2.0368560468806e-06\n",
      "падр 4.2978568154563506e-06\n",
      "паер 3.275180970536732e-06\n",
      "пажр 1.5489702095157818e-08\n",
      "пазр 1.6416824160245962e-06\n",
      "паир 5.580705698205104e-07\n",
      "пайр 4.894280194377402e-07\n",
      "пакр 6.697282476458556e-06\n",
      "палр 1.0139942820946131e-06\n",
      "памр 6.44836073686209e-07\n",
      "панр 4.1933000945591e-07\n",
      "паор 1.948642054928766e-06\n",
      "папр 1.522862715316372e-05\n",
      "парр 8.429879570147815e-08\n",
      "паср 9.870793534017992e-07\n",
      "патр 6.812875845405612e-06\n",
      "паур 3.3316088886209546e-07\n",
      "пафр 3.917027805184137e-06\n",
      "пахр 6.096567064423558e-07\n",
      "пацр 4.296453469702874e-09\n",
      "пачр 6.49649110891118e-08\n",
      "пашр 1.7194566520466948e-08\n",
      "пащр 7.2033459260607656e-09\n",
      "паэр 3.758078821070711e-08\n",
      "паюр 4.970424322646765e-07\n",
      "паяр 8.588254847156067e-07\n",
      "пбар 3.1236073795011473e-09\n",
      "пббр 6.854825415865303e-11\n",
      "пбвр 1.2860882177591123e-10\n",
      "пбгр 5.5132992762454695e-11\n",
      "пбдр 1.222421202605786e-10\n",
      "пбер 1.4130040614324587e-08\n",
      "пбёр 1.6270448400651633e-12\n",
      "пбжр 2.7873668126846655e-13\n",
      "пбзр 4.208841855859378e-12\n",
      "пбир 9.160823081307813e-10\n",
      "пбкр 8.015605483404094e-10\n",
      "пблр 2.6069731960001986e-10\n",
      "пбмр 2.40924922262873e-11\n",
      "пбнр 5.897136712112568e-11\n",
      "пбор 1.038182783786728e-08\n",
      "пбпр 1.5298226587921142e-10\n",
      "пбрр 8.596169270356182e-11\n",
      "пбср 4.6591338459731424e-11\n",
      "пбтр 3.1205394732518204e-11\n",
      "пбур 2.1645889634070736e-09\n",
      "пбхр 1.693774021017404e-10\n",
      "пбцр 3.3842065886239724e-13\n",
      "пбчр 4.3238301853651024e-12\n",
      "пбшр 1.971343187985025e-13\n",
      "пбщр 1.7790956664284813e-11\n",
      "пбыр 6.506877496484199e-09\n",
      "пбьр 3.136607261420568e-11\n",
      "пбэр 1.3475554757033203e-11\n",
      "пбюр 7.936478434940599e-12\n",
      "пбяр 4.398457716211094e-10\n",
      "пвар 2.3445369932244688e-08\n",
      "пвбр 1.4948225914830738e-09\n",
      "пввр 7.44400470036847e-10\n",
      "пвгр 2.1469106938278994e-09\n",
      "пвдр 4.172324664344768e-09\n",
      "пвер 4.013874572765675e-08\n",
      "пвёр 2.139542639273911e-12\n",
      "пвжр 2.4086591136485785e-12\n",
      "пвзр 9.049025017015115e-10\n",
      "пвир 5.506908472001531e-09\n",
      "пвйр 1.1193340962355527e-12\n",
      "пвкр 3.4066476805798135e-09\n",
      "пвлр 5.173043610240675e-10\n",
      "пвмр 2.867704920366815e-10\n",
      "пвнр 4.0752589636470243e-10\n",
      "пвор 4.804663404723757e-08\n",
      "пвпр 2.2595012078762707e-08\n",
      "пврр 8.328370530713598e-11\n",
      "пвср 2.875333353019214e-09\n",
      "пвтр 3.247092470695908e-09\n",
      "пвур 2.5355392793941425e-09\n",
      "пвфр 6.536712675806782e-10\n",
      "пвхр 1.6977838067877544e-10\n",
      "пвцр 5.507106793397344e-12\n",
      "пвчр 4.0681355650487404e-11\n",
      "пвшр 6.145580012317628e-11\n",
      "пвщр 8.262130516299032e-13\n",
      "пвыр 5.330021210875685e-09\n",
      "пвьр 1.8148228726176654e-10\n",
      "пвэр 1.3485988010358371e-10\n",
      "пвюр 5.692562792627114e-12\n",
      "пвяр 3.0485436343899587e-10\n",
      "пгар 3.4914345584514195e-08\n",
      "пгбр 1.967055942659963e-09\n",
      "пгвр 1.6637724605349759e-09\n",
      "пггр 7.961497907664073e-10\n",
      "пгдр 6.190325994437705e-08\n",
      "пгер 4.0689938227455255e-08\n",
      "пгжр 3.047088935446844e-12\n",
      "пгзр 5.169239922978158e-10\n",
      "пгир 1.093240093898197e-08\n",
      "пгкр 5.012634807420007e-09\n",
      "пглр 5.6092972920584544e-09\n",
      "пгмр 1.4542326051271642e-10\n",
      "пгнр 7.578556534729523e-10\n",
      "пгор 4.798521019332657e-07\n",
      "пгпр 2.194984240756938e-08\n",
      "пгрр 1.0437687435669074e-09\n",
      "пгср 1.130914892235426e-09\n",
      "пгтр 1.027841347861472e-09\n",
      "пгур 1.603364195691598e-08\n",
      "пгфр 5.705822746560257e-10\n",
      "пгхр 5.869213189303056e-11\n",
      "пгцр 2.9133887199816294e-12\n",
      "пгчр 6.850411505275876e-11\n",
      "пгшр 3.5557988569800178e-12\n",
      "пгыр 2.0562089190742743e-11\n",
      "пгьр 1.8001572845568617e-11\n",
      "пгэр 3.5820037238398475e-11\n",
      "пгюр 7.453460756033342e-11\n",
      "пгяр 8.115529300562775e-11\n",
      "пдар 1.9650164035098934e-08\n",
      "пдбр 5.103125827413172e-10\n",
      "пдвр 2.1398476608964687e-09\n",
      "пдгр 3.8080916872836974e-10\n",
      "пддр 4.282543846665847e-10\n",
      "пдер 4.26217724512479e-08\n",
      "пдёр 4.614345323725231e-12\n",
      "пджр 1.0351852964893436e-12\n",
      "пдзр 6.565017196642387e-11\n",
      "пдир 4.507900733236689e-09\n",
      "пдйр 1.2070322782638154e-12\n",
      "пдкр 1.422278470591048e-09\n",
      "пдлр 3.8577565504158895e-10\n",
      "пдмр 1.1780515763570272e-10\n",
      "пднр 5.082293422523047e-10\n",
      "пдор 2.4639632612403788e-08\n",
      "пдпр 5.433136075492951e-09\n",
      "пдрр 2.0289111610718126e-10\n",
      "пдср 4.1398057912351043e-10\n",
      "пдтр 1.3852077608480346e-09\n",
      "пдур 4.87874740997563e-09\n",
      "пдфр 5.336989843954205e-10\n",
      "пдхр 1.1419858262555785e-10\n",
      "пдцр 2.459412134619553e-11\n",
      "пдчр 1.4075974126829434e-11\n",
      "пдшр 6.9485473271526156e-12\n",
      "пдщр 9.378375057230896e-14\n",
      "пдыр 1.3971087058040136e-09\n",
      "пдьр 4.785782860233397e-10\n",
      "пдэр 1.247082866170329e-11\n",
      "пдюр 1.1970205112765745e-10\n",
      "пдяр 6.073497310616173e-10\n",
      "пеар 3.741228462651959e-07\n",
      "пебр 7.163030057301005e-06\n",
      "певр 3.0986227052236416e-06\n",
      "пегр 1.3202193065556762e-05\n",
      "педр 1.1684328652353022e-05\n",
      "пеер 9.242695184023863e-06\n",
      "пеёр 2.285555781723652e-09\n",
      "пежр 3.1370555301012835e-08\n",
      "пезр 1.391159219493564e-06\n",
      "пеир 1.1646089923982832e-06\n",
      "пейр 3.983551442433319e-06\n",
      "пекр 4.921439559654437e-06\n",
      "пелр 1.5041093353409748e-06\n",
      "пемр 1.9214884044892564e-06\n",
      "пенр 1.208567207361751e-06\n",
      "пеор 5.489025521796305e-06\n",
      "пепр 3.5277543075601194e-05\n",
      "перр 3.72913103621555e-07\n",
      "песр 2.2264385740463064e-06\n",
      "петр 1.1318031769731608e-05\n",
      "пеур 7.642211692739488e-07\n",
      "пефр 8.828267940634704e-07\n",
      "пехр 1.3324036009039418e-06\n",
      "пецр 1.9698933573247555e-08\n",
      "печр 1.603570390195432e-07\n",
      "пешр 1.9700889837960715e-08\n",
      "пещр 3.825365466646313e-08\n",
      "пеэр 6.764802624146287e-08\n",
      "пеюр 3.714509194206462e-07\n",
      "пеяр 3.382046144167965e-07\n",
      "пжар 3.53851715243744e-09\n",
      "пжбр 2.594298267833161e-10\n",
      "пжвр 2.3221177064118976e-11\n",
      "пжгр 7.109769007055711e-11\n",
      "пждр 2.9684655043575647e-09\n",
      "пжер 2.0429139620066547e-08\n",
      "пжжр 5.847606322104528e-13\n",
      "пжзр 5.837421671860655e-12\n",
      "пжир 1.3831801703839616e-09\n",
      "пжкр 2.781307265426328e-10\n",
      "пжлр 1.6112842861479269e-12\n",
      "пжмр 9.150125170749586e-12\n",
      "пжнр 1.9339599623975702e-10\n",
      "пжор 1.8172963716407938e-10\n",
      "пжпр 1.5884954553187157e-10\n",
      "пжрр 2.9960971791121767e-13\n",
      "пжср 1.72620919196693e-11\n",
      "пжтр 5.091775103292684e-11\n",
      "пжур 2.6637286863463443e-10\n",
      "пжфр 5.793612822193602e-12\n",
      "пжхр 1.5643732646069692e-12\n",
      "пжчр 5.8627560654934476e-12\n",
      "пжшр 1.1487981772138745e-14\n",
      "пжьр 2.8148960763588823e-11\n",
      "пжэр 3.471793130797712e-12\n",
      "пжюр 4.532475002233714e-11\n",
      "пжяр 4.857496142877628e-12\n",
      "пзар 8.495831632742343e-09\n",
      "пзбр 5.38958387496085e-10\n",
      "пзвр 6.36333853623395e-10\n",
      "пзгр 1.0473919511289134e-09\n",
      "пздр 1.8155589714268045e-09\n",
      "пзер 8.625737326336704e-10\n",
      "пзжр 3.070201017726019e-12\n",
      "пззр 5.999237650335073e-11\n",
      "пзир 2.3856759717638537e-10\n",
      "пзйр 4.317829085528667e-13\n",
      "пзкр 4.837710487699403e-10\n",
      "пзлр 4.007280698257281e-11\n",
      "пзмр 9.776847768873318e-11\n",
      "пзнр 1.7442823824462845e-10\n",
      "пзор 1.6661807844272221e-09\n",
      "пзпр 1.6578430186112793e-09\n",
      "пзрр 9.500438989226731e-12\n",
      "пзср 9.149940678194138e-11\n",
      "пзтр 1.4521498634575173e-10\n",
      "пзур 3.050652686871148e-10\n",
      "пзфр 5.403290647205397e-11\n",
      "пзхр 3.5663947935944196e-12\n",
      "пзцр 4.935394288670201e-13\n",
      "пзчр 3.0582473878816626e-12\n",
      "пзшр 3.9999021413205387e-13\n",
      "пзщр 5.0322872046994464e-14\n",
      "пзыр 4.540403511726211e-10\n",
      "пзьр 2.550473434963037e-10\n",
      "пзэр 6.979461574721411e-12\n",
      "пзюр 6.624313365800834e-11\n",
      "пзяр 2.3802642281146306e-10\n",
      "пиар 2.2689022907869412e-07\n",
      "пибр 1.6860272823318708e-06\n",
      "пивр 1.654503507886263e-06\n",
      "пигр 1.3182820576267167e-06\n",
      "пидр 3.1027705605308424e-06\n",
      "пиер 5.537107199669561e-06\n",
      "пижр 5.205406545757062e-09\n",
      "пизр 7.284203378522859e-07\n",
      "пиир 6.680669922782496e-07\n",
      "пийр 7.472685726644934e-07\n",
      "пикр 2.927948157215234e-06\n",
      "пилр 4.2958193348449965e-07\n",
      "пимр 5.079239816095089e-07\n",
      "пинр 2.526801431616539e-07\n",
      "пиор 2.0441271606867988e-06\n",
      "пипр 1.12044743882313e-05\n",
      "пирр 2.0924505394523345e-08\n",
      "писр 7.215126523670694e-07\n",
      "питр 3.915669379327264e-06\n",
      "пиур 2.557168088873487e-07\n",
      "пифр 6.66090917239876e-07\n",
      "пихр 8.513508149122871e-07\n",
      "пицр 3.603160527630479e-08\n",
      "пичр 7.66135706087593e-08\n",
      "пишр 4.657652012853885e-09\n",
      "пищр 3.499219459330175e-09\n",
      "пиьр 1.6390389365585725e-10\n",
      "пиэр 2.2607472660034215e-08\n",
      "пиюр 1.8021551576857418e-07\n",
      "пияр 5.221032083018865e-07\n",
      "пкар 1.1958677595456024e-06\n",
      "пкбр 1.0734055845669951e-07\n",
      "пквр 4.8713455862586593e-08\n",
      "пкгр 3.1273194501660816e-08\n",
      "пкдр 5.606253460078967e-08\n",
      "пкер 1.6908603828620017e-07\n",
      "пкёр 1.6829568169408747e-10\n",
      "пкжр 3.624534247281976e-10\n",
      "пкзр 5.0282636659186245e-09\n",
      "пкир 1.7308529566141336e-07\n",
      "пкйр 4.402321582927817e-11\n",
      "пккр 6.52793064878128e-08\n",
      "пклр 7.258494828035991e-09\n",
      "пкмр 4.87666638270792e-09\n",
      "пкнр 1.9848750958392118e-08\n",
      "пкор 2.048733034103107e-06\n",
      "пкпр 3.348201173337043e-07\n",
      "пкрр 6.3596780189104625e-09\n",
      "пкср 1.578411933383105e-08\n",
      "пктр 1.265848795539509e-07\n",
      "пкур 1.626859733353173e-07\n",
      "пкфр 1.9465217294521213e-08\n",
      "пкхр 3.1733960839202154e-09\n",
      "пкцр 1.2908100743167638e-10\n",
      "пкчр 1.1684971162788892e-09\n",
      "пкшр 4.806418596496871e-11\n",
      "пкщр 1.026152084017814e-11\n",
      "пкьр 3.2443940343171974e-11\n",
      "пкэр 1.8120219576340016e-09\n",
      "пкюр 7.462916904028168e-10\n",
      "пкяр 3.0600147793211923e-09\n",
      "плар 7.273482836756081e-06\n",
      "плбр 4.4641288999017536e-07\n",
      "плвр 3.1408878182417455e-07\n",
      "плгр 5.490640001435127e-07\n",
      "плдр 9.037214229563759e-07\n",
      "плер 1.0059424594178245e-05\n",
      "плёр 4.316312935173796e-09\n",
      "плжр 4.753593060763382e-09\n",
      "плзр 4.982579521397389e-08\n",
      "плир 2.7439571732356144e-06\n",
      "плйр 5.645361010428612e-10\n",
      "плкр 1.3986185310938712e-06\n",
      "пллр 1.79283440323977e-08\n",
      "плмр 2.2659120610520966e-08\n",
      "плнр 6.242748042197211e-08\n",
      "плор 1.0632037355814042e-05\n",
      "плпр 5.44424687162185e-06\n",
      "плрр 5.330140876359664e-09\n",
      "плср 3.520900039006774e-07\n",
      "плтр 3.8917180338407556e-07\n",
      "плур 8.957722280163759e-07\n",
      "плфр 2.3313020259401964e-07\n",
      "плхр 1.9711331273793477e-08\n",
      "плцр 3.9277905945861594e-10\n",
      "плчр 3.02514021224709e-08\n",
      "плшр 5.649928944055457e-10\n",
      "плщр 1.7545284858635974e-10\n",
      "плыр 5.431438945261525e-07\n",
      "пльр 1.0242064259521095e-06\n",
      "плэр 1.3970209276790186e-08\n",
      "плюр 6.976636405269184e-07\n",
      "пляр 6.21306410380974e-07\n",
      "пмар 1.06010507167346e-08\n",
      "пмбр 1.804473946217575e-09\n",
      "пмвр 1.0935889761550912e-09\n",
      "пмгр 1.8063966681132878e-09\n",
      "пмдр 1.9713735703258657e-09\n",
      "пмер 2.304489828201145e-08\n",
      "пмёр 1.908292219112342e-12\n",
      "пмжр 4.90377732943588e-12\n",
      "пмзр 1.9794855598695985e-10\n",
      "пмир 5.566166444612305e-09\n",
      "пмйр 1.9967038816841185e-12\n",
      "пмкр 2.4618165858448724e-09\n",
      "пмлр 1.0423666456632161e-10\n",
      "пммр 1.5663184687743938e-10\n",
      "пмнр 3.843733399792493e-10\n",
      "пмор 2.201962352349088e-08\n",
      "пмпр 1.9573793740588624e-08\n",
      "пмрр 1.87527427138698e-11\n",
      "пмср 6.143804138208536e-10\n",
      "пмтр 1.2189221576806363e-09\n",
      "пмур 6.239864291073432e-09\n",
      "пмфр 1.049435700691949e-09\n",
      "пмхр 1.2968837667972015e-10\n",
      "пмцр 4.564572028502536e-12\n",
      "пмчр 8.835382132246505e-11\n",
      "пмшр 2.59286085312876e-12\n",
      "пмщр 6.59342856243161e-13\n",
      "пмыр 1.5386544388270213e-09\n",
      "пмьр 3.53164249726197e-11\n",
      "пмэр 3.111071640285663e-11\n",
      "пмюр 6.854338242283485e-11\n",
      "пмяр 5.857075444735944e-10\n",
      "пнар 9.273282436387336e-07\n",
      "пнбр 3.988657814097918e-08\n",
      "пнвр 1.787544356142151e-08\n",
      "пнгр 2.8243919904740268e-08\n",
      "пндр 1.303056894488776e-07\n",
      "пнер 1.6408366840236e-06\n",
      "пнёр 4.432064422419556e-11\n",
      "пнжр 4.3748860229872185e-11\n",
      "пнзр 5.04454298211408e-09\n",
      "пнир 2.71375292196102e-07\n",
      "пнкр 3.8949030518613025e-08\n",
      "пнлр 3.5641425032612916e-10\n",
      "пнмр 1.4596542187094942e-09\n",
      "пннр 1.6990764730759124e-08\n",
      "пнор 1.1236879108254704e-06\n",
      "пнпр 2.612096498709269e-07\n",
      "пнрр 3.33194209502867e-10\n",
      "пнср 1.5334548960011402e-08\n",
      "пнтр 5.8024050108763874e-08\n",
      "пнур 1.3533667283954554e-07\n",
      "пнфр 1.1412965011006725e-08\n",
      "пнхр 2.402676067092579e-09\n",
      "пнцр 1.887501561715741e-09\n",
      "пнчр 1.1927398055663387e-09\n",
      "пншр 3.6055257118999494e-11\n",
      "пнщр 2.7744332794088945e-10\n",
      "пныр 1.402589580174656e-07\n",
      "пньр 2.313744216065808e-08\n",
      "пнэр 3.748015037357567e-10\n",
      "пнюр 7.409400121354983e-09\n",
      "пняр 7.130038112398554e-08\n",
      "поар 9.136588180581851e-07\n",
      "побр 4.156883457462513e-05\n",
      "повр 2.4792715265440947e-05\n",
      "погр 4.463878855863205e-05\n",
      "подр 4.8185996087012806e-05\n",
      "поер 3.537166088498617e-05\n",
      "поёр 2.854391048394326e-09\n",
      "пожр 1.329611881052819e-07\n",
      "позр 2.855293315653492e-06\n",
      "поир 4.444294080566216e-06\n",
      "пойр 1.4779366809527655e-05\n",
      "покр 1.7403397383496e-05\n",
      "полр 4.1492993856728195e-06\n",
      "помр 5.504110795196328e-06\n",
      "понр 3.0152730483996177e-06\n",
      "поор 1.721828247183248e-05\n",
      "попр 0.00010686523946902817\n",
      "порр 9.006736949093604e-07\n",
      "поср 9.043945795490706e-06\n",
      "потр 5.212904137126614e-05\n",
      "поур 1.965583674122966e-06\n",
      "пофр 1.359185181618465e-05\n",
      "похр 1.9948006008221492e-06\n",
      "поцр 2.1076532790546587e-08\n",
      "почр 6.911326026056137e-07\n",
      "пошр 7.766595503141178e-08\n",
      "пощр 2.355358444398914e-08\n",
      "поыр 1.0475617400125363e-09\n",
      "поьр 5.502677903436845e-10\n",
      "поэр 2.2769741002027245e-07\n",
      "поюр 1.684717781316324e-06\n",
      "пояр 1.592893426029916e-06\n",
      "ппар 1.4423182890723875e-07\n",
      "ппбр 1.4707697840076456e-10\n",
      "ппвр 1.424950503107733e-10\n",
      "ппгр 1.785846091728046e-09\n",
      "ппдр 3.471384911452129e-10\n",
      "ппер 6.380392330784909e-07\n",
      "ппжр 5.12620105816756e-13\n",
      "ппзр 1.6254866744363034e-11\n",
      "ппир 3.580098217202131e-08\n",
      "ппкр 1.0881151792214002e-08\n",
      "пплр 9.119655394046236e-09\n",
      "ппмр 3.208518409001317e-11\n",
      "ппнр 5.700818121777451e-10\n",
      "ппор 1.5410162527759525e-06\n",
      "пппр 3.142136704107184e-08\n",
      "ппрр 1.8364763318365827e-08\n",
      "ппср 2.2286058348210852e-10\n",
      "пптр 6.2878749541062086e-09\n",
      "ппур 5.2787823672626265e-08\n",
      "ппфр 1.3164427431254697e-08\n",
      "ппхр 2.4684844698505838e-11\n",
      "ппцр 5.55477666598013e-11\n",
      "ппчр 5.315443733525416e-10\n",
      "ппшр 8.157296826923882e-12\n",
      "ппщр 6.3856900711205884e-12\n",
      "ппыр 1.6258317572067855e-08\n",
      "ппьр 2.7583157543597433e-08\n",
      "ппэр 1.6434825920004234e-11\n",
      "ппяр 1.2833798298411642e-08\n",
      "прар 8.772238118226045e-05\n",
      "прбр 3.3217930238753983e-06\n",
      "првр 1.9800955443498354e-06\n",
      "пргр 4.988871442184624e-06\n",
      "прдр 6.094022743522467e-06\n",
      "прер 0.00013158574718183307\n",
      "прёр 5.375814452564532e-09\n",
      "пржр 3.815389071297034e-08\n",
      "прзр 2.6421712179194934e-07\n",
      "прир 2.0978690498307323e-05\n",
      "прйр 2.8124386498945513e-09\n",
      "пркр 3.960941023415833e-06\n",
      "прлр 9.176348920951156e-08\n",
      "прмр 5.764315895786066e-07\n",
      "прнр 4.934754249760486e-07\n",
      "прор 0.00010270764738634797\n",
      "прпр 1.3923094829316946e-05\n",
      "пррр 1.0733604661399554e-08\n",
      "прср 6.884906672410937e-07\n",
      "пртр 7.105192680144955e-06\n",
      "прур 1.982732014401736e-05\n",
      "прфр 1.5485620636648186e-06\n",
      "прхр 5.997533495585138e-07\n",
      "прцр 2.2922156658057123e-08\n",
      "прчр 5.1107983463705574e-08\n",
      "пршр 3.5870161125076e-08\n",
      "прщр 1.365751819521676e-08\n",
      "прыр 8.416495184608706e-06\n",
      "прьр 2.659264550382127e-06\n",
      "прэр 2.296486392825337e-08\n",
      "прюр 8.86794199751738e-07\n",
      "пряр 3.39587243425416e-06\n",
      "псар 2.0924348100666776e-08\n",
      "псбр 3.664537492806067e-09\n",
      "псвр 1.2602148989553616e-08\n",
      "псгр 2.6551765697183745e-09\n",
      "псдр 9.848638043850642e-09\n",
      "псер 9.438089569352855e-08\n",
      "псёр 7.029304620297331e-09\n",
      "псжр 1.7770197256195124e-11\n",
      "псзр 4.819253713033838e-10\n",
      "псир 8.4370069186072e-09\n",
      "псйр 3.7487125822730824e-12\n",
      "пскр 8.210300117717888e-08\n",
      "пслр 3.72480757010322e-09\n",
      "псмр 2.5226780887145814e-09\n",
      "пснр 9.77026592471515e-10\n",
      "псор 6.1952646339574e-08\n",
      "пспр 1.6184796191211073e-07\n",
      "псрр 1.3025473599834247e-10\n",
      "псср 2.946027969772171e-09\n",
      "пстр 1.8569437217390375e-07\n",
      "псур 8.271232511679773e-09\n",
      "псфр 2.9084842416994216e-09\n",
      "псхр 1.4017893984339246e-09\n",
      "псцр 1.546282379469895e-11\n",
      "псчр 2.6873351755178457e-10\n",
      "псшр 1.7177414866360302e-11\n",
      "псщр 4.36900071498752e-13\n",
      "псыр 2.4956043093703016e-09\n",
      "псьр 1.087261201934577e-08\n",
      "псэр 8.683237563618116e-11\n",
      "псюр 9.977199088116847e-10\n",
      "псяр 1.3698755203751423e-08\n",
      "птар 3.1766207398052344e-07\n",
      "птбр 2.3643670397824572e-08\n",
      "птвр 7.656951303906526e-08\n",
      "птгр 1.0820356164068382e-08\n",
      "птдр 3.396268791574093e-08\n",
      "птер 5.385939996763328e-07\n",
      "птёр 3.1838880093858525e-10\n",
      "птжр 4.580808498446774e-11\n",
      "птзр 2.0964582372798704e-09\n",
      "птир 8.248595261931985e-08\n",
      "птйр 3.028543953173241e-11\n",
      "пткр 4.220187344421813e-08\n",
      "птлр 1.8972386826133653e-09\n",
      "птмр 1.6996016588385135e-09\n",
      "птнр 4.923281883577172e-09\n",
      "птор 1.232952188277556e-06\n",
      "птпр 1.446100564978971e-07\n",
      "птрр 3.6750576496783066e-09\n",
      "птср 1.3550395302420475e-08\n",
      "пттр 2.2084547992611302e-08\n",
      "птур 5.598669205654571e-08\n",
      "птфр 8.464090741049374e-09\n",
      "птхр 1.3758165839942113e-09\n",
      "птцр 2.4081438967757764e-10\n",
      "птчр 1.070367222238741e-09\n",
      "птшр 1.0520807334623068e-11\n",
      "птщр 2.706078770128253e-11\n",
      "птыр 4.0302184088633784e-08\n",
      "птьр 8.306225829221951e-08\n",
      "птэр 7.040326939290343e-10\n",
      "птюр 1.7070740977898644e-09\n",
      "птяр 1.0373313841725978e-08\n",
      "пуар 2.2805521467384213e-07\n",
      "пубр 2.2167543779330505e-06\n",
      "пувр 1.1100883899574163e-06\n",
      "пугр 3.828342684274279e-06\n",
      "пудр 5.48643682386982e-06\n",
      "пуер 1.1655840166931223e-06\n",
      "пужр 2.741255395765535e-08\n",
      "пузр 5.983450046739235e-07\n",
      "пуир 4.0764786791140593e-07\n",
      "пуйр 1.0377948156099391e-07\n",
      "пукр 2.6745101138509853e-06\n",
      "пулр 2.440783885568619e-07\n",
      "пумр 3.847756678931877e-07\n",
      "пунр 1.0745570581598521e-07\n",
      "пуор 9.84276335011229e-07\n",
      "пупр 1.2736663018419368e-05\n",
      "пурр 3.085275973423532e-08\n",
      "пуср 6.012466204279635e-07\n",
      "путр 3.3352291223283877e-06\n",
      "пуур 1.292531193947738e-07\n",
      "пуфр 4.308820846727155e-07\n",
      "пухр 3.483114162021944e-07\n",
      "пуцр 1.1274556453149295e-09\n",
      "пучр 1.0519010952159271e-07\n",
      "пушр 1.5945825002274336e-08\n",
      "пущр 1.3614082396999105e-08\n",
      "пуэр 1.9304964950174576e-08\n",
      "пуюр 1.0592584415807091e-06\n",
      "пуяр 7.258988615163254e-08\n",
      "пфар 9.087015041029885e-08\n",
      "пфбр 8.921739829875188e-09\n",
      "пфвр 5.9057008414481476e-09\n",
      "пфгр 2.8984624728694506e-09\n",
      "пфдр 3.6621808071072836e-09\n",
      "пфер 1.8003474902593612e-07\n",
      "пфжр 1.0815899479577589e-11\n",
      "пфзр 1.1146378360691299e-09\n",
      "пфир 1.4515026978715674e-07\n",
      "пфкр 6.600543905313792e-09\n",
      "пфлр 4.702318909860303e-09\n",
      "пфмр 5.500408081840198e-10\n",
      "пфнр 5.33274311315305e-10\n",
      "пфор 7.853860972549518e-08\n",
      "пфпр 6.658004543060804e-08\n",
      "пфрр 7.694178094822579e-09\n",
      "пфср 3.178332833129374e-09\n",
      "пфтр 1.520170690635606e-08\n",
      "пфур 3.513908377562492e-08\n",
      "пффр 1.5913306869218272e-08\n",
      "пфхр 5.208316956328321e-10\n",
      "пфцр 8.617766062358018e-12\n",
      "пфчр 8.684326465180322e-11\n",
      "пфшр 1.1474189366088393e-11\n",
      "пфыр 3.1627644486845195e-09\n",
      "пфьр 6.389810290962549e-10\n",
      "пфэр 5.779374859279782e-11\n",
      "пфюр 1.02887121325864e-09\n",
      "пфяр 4.548435244158431e-10\n",
      "пхар 2.7959512946688115e-09\n",
      "пхбр 7.418538211421437e-10\n",
      "пхвр 6.043609571861024e-10\n",
      "пхгр 5.816102074208306e-10\n",
      "пхдр 8.745731404769846e-10\n",
      "пхер 6.163831552192219e-10\n",
      "пхжр 1.406699279439073e-12\n",
      "пхзр 8.283890601686213e-11\n",
      "пхир 5.54048825005748e-10\n",
      "пхйр 8.591627605391385e-13\n",
      "пхкр 7.83452736687962e-10\n",
      "пхлр 8.771067373555448e-11\n",
      "пхмр 1.0083375733266435e-10\n",
      "пхнр 7.390723386263138e-11\n",
      "пхор 1.1052965730849139e-08\n",
      "пхпр 7.4889333163443e-09\n",
      "пхрр 1.4427485915750057e-11\n",
      "пхср 2.586455508304955e-10\n",
      "пхтр 5.094269543024854e-10\n",
      "пхур 4.313648098603559e-10\n",
      "пхфр 4.085563106521996e-10\n",
      "пххр 2.838568674528096e-11\n",
      "пхцр 1.3663249337765198e-12\n",
      "пхчр 1.1740342950317976e-11\n",
      "пхшр 9.664519113386181e-13\n",
      "пхщр 1.335101098560812e-13\n",
      "пхэр 1.3601405513257704e-11\n",
      "пхюр 1.456472492560336e-12\n",
      "пхяр 2.2535714442961918e-11\n",
      "пцар 1.5299512270989995e-07\n",
      "пцбр 3.1262212685019065e-09\n",
      "пцвр 5.019202788194471e-09\n",
      "пцгр 5.109915734729318e-09\n",
      "пцдр 3.6893324364358304e-09\n",
      "пцер 4.964226891876066e-07\n",
      "пцжр 4.358435684201436e-12\n",
      "пцзр 4.837115567617552e-10\n",
      "пцир 2.450784685568907e-08\n",
      "пцкр 3.6080660688339744e-08\n",
      "пцлр 1.3172913030036564e-10\n",
      "пцмр 3.921456433772447e-10\n",
      "пцнр 4.357516318078288e-10\n",
      "пцор 1.3756487096901536e-07\n",
      "пцпр 4.509634245333968e-08\n",
      "пцрр 3.2465856314832855e-11\n",
      "пцср 1.473749936930906e-09\n",
      "пцтр 3.898214288946111e-09\n",
      "пцур 8.540155203605601e-08\n",
      "пцфр 5.829559667599268e-10\n",
      "пцхр 1.5740795196891464e-10\n",
      "пцчр 6.998970068197243e-11\n",
      "пцшр 3.4677779093780988e-12\n",
      "пцыр 1.975452292510896e-08\n",
      "пцэр 9.315557588760211e-11\n",
      "пцяр 2.7492945703939457e-10\n",
      "пчар 8.842797612280697e-07\n",
      "пчбр 6.204644439058775e-09\n",
      "пчвр 5.581967398748864e-09\n",
      "пчгр 2.414691390787821e-09\n",
      "пчдр 4.8815047559616425e-09\n",
      "пчер 2.8716392009826307e-06\n",
      "пчжр 7.2085278595604745e-12\n",
      "пчзр 5.143004176267257e-10\n",
      "пчир 2.42649652846051e-07\n",
      "пчкр 1.231747514062339e-07\n",
      "пчлр 1.6256466226633639e-09\n",
      "пчмр 6.203805577568631e-10\n",
      "пчнр 1.353535205958722e-08\n",
      "пчор 5.0250267861061016e-08\n",
      "пчпр 6.608885201699202e-08\n",
      "пчрр 3.1067033452327846e-10\n",
      "пчср 1.653999251719646e-09\n",
      "пчтр 1.8724963822598147e-06\n",
      "пчур 1.7815415038397233e-07\n",
      "пчхр 4.3390170590994853e-10\n",
      "пччр 1.4056298184347515e-10\n",
      "пчшр 4.836893017653445e-10\n",
      "пчьр 2.0398931365829087e-08\n",
      "пчэр 1.3481333352735696e-10\n",
      "пчяр 2.5261824222164543e-10\n",
      "пшар 6.625638566542366e-08\n",
      "пшбр 6.159479392137675e-10\n",
      "пшвр 4.0031048558691874e-10\n",
      "пшгр 1.5008019913398613e-10\n",
      "пшдр 4.298165715549396e-10\n",
      "пшер 2.1611824926327008e-07\n",
      "пшжр 7.467188151890184e-13\n",
      "пшзр 3.551698821020782e-11\n",
      "пшир 3.180142733755442e-08\n",
      "пшкр 2.1358222237020686e-08\n",
      "пшлр 2.064176263398011e-09\n",
      "пшмр 1.4313376373541607e-10\n",
      "пшнр 1.067684931555783e-09\n",
      "пшор 1.7833100738632904e-08\n",
      "пшпр 1.2518452648443047e-08\n",
      "пшрр 4.767673709049529e-12\n",
      "пшср 5.711163155777936e-11\n",
      "пштр 4.713256452730736e-09\n",
      "пшур 9.010734499652459e-09\n",
      "пшфр 9.987624467747511e-11\n",
      "пшхр 8.98942402825994e-12\n",
      "пшцр 3.5697713773009826e-12\n",
      "пшчр 3.42604091110155e-12\n",
      "пшшр 1.584332972930806e-12\n",
      "пшьр 3.123314189228245e-09\n",
      "пшэр 1.596008896200704e-11\n",
      "пшяр 1.5700969590624388e-11\n",
      "пщар 1.7624170019038515e-08\n",
      "пщбр 2.7952231066407836e-11\n",
      "пщвр 3.095020320391384e-11\n",
      "пщдр 2.6389705369374714e-11\n",
      "пщер 1.244855553068047e-07\n",
      "пщзр 6.178530401325433e-12\n",
      "пщир 1.3214508780645845e-08\n",
      "пщкр 8.271925966165824e-11\n",
      "пщмр 3.0489220313204994e-12\n",
      "пщнр 8.859740759874988e-11\n",
      "пщор 5.030665557415671e-11\n",
      "пщпр 2.0416015378380411e-10\n",
      "пщрр 3.732227392502649e-12\n",
      "пщср 6.2748199569162325e-12\n",
      "пщтр 3.9834045986207554e-11\n",
      "пщур 2.7129913937449034e-09\n",
      "пщфр 1.0424674701431617e-10\n",
      "пщьр 2.1641162279644741e-10\n",
      "пщэр 2.08231116633528e-12\n",
      "пыар 4.880322530091326e-08\n",
      "пыбр 9.586579283744225e-07\n",
      "пывр 6.576688941297924e-07\n",
      "пыгр 2.6732715391293597e-07\n",
      "пыдр 4.6192086705492465e-07\n",
      "пыер 2.610408357303733e-06\n",
      "пыжр 6.174357275517531e-10\n",
      "пызр 6.60608071035767e-08\n",
      "пыир 1.6694590818167756e-07\n",
      "пыйр 1.0163065049868296e-06\n",
      "пыкр 4.573735221805046e-07\n",
      "пылр 2.604580797670683e-07\n",
      "пымр 2.952317610280756e-07\n",
      "пынр 4.5997341030079594e-08\n",
      "пыор 4.6847476696093663e-07\n",
      "пыпр 3.153292006469803e-06\n",
      "пырр 9.5024558853716e-09\n",
      "пыср 2.1128044828118932e-07\n",
      "пытр 1.0162479759857392e-06\n",
      "пыур 6.944788840467862e-08\n",
      "пыфр 1.3932569313349105e-07\n",
      "пыхр 5.905980872347594e-07\n"
     ]
    },
    {
     "name": "stdout",
     "output_type": "stream",
     "text": [
      "пыцр 4.685268834468403e-10\n",
      "пычр 1.3817485808359793e-08\n",
      "пышр 6.091192245050051e-09\n",
      "пыщр 1.1510900568207176e-10\n",
      "пыэр 6.643307487966196e-09\n",
      "пыюр 2.2831515851309967e-10\n",
      "пыяр 1.3070900682073347e-08\n",
      "пьар 1.2721385606283491e-06\n",
      "пьбр 2.0283098675798364e-06\n",
      "пьвр 1.5912585865310524e-06\n",
      "пьгр 1.2063997933463359e-06\n",
      "пьдр 2.01897994971228e-06\n",
      "пьер 1.1555481468846437e-05\n",
      "пьёр 1.652206930831365e-09\n",
      "пьжр 2.304813867248007e-09\n",
      "пьзр 4.38505339812816e-07\n",
      "пьир 1.111592699541215e-06\n",
      "пьйр 8.643770485190502e-10\n",
      "пькр 6.78344853904187e-06\n",
      "пьлр 4.700443508204837e-08\n",
      "пьмр 3.028608214422734e-07\n",
      "пьнр 3.957765416616399e-07\n",
      "пьор 3.3372319344626663e-06\n",
      "пьпр 1.6890577606044506e-05\n",
      "пьрр 1.6121455161362836e-08\n",
      "пьср 1.056921110086417e-06\n",
      "пьтр 1.895768034677558e-06\n",
      "пьур 3.9253937716690325e-07\n",
      "пьфр 6.201593568265915e-07\n",
      "пьхр 1.3175604476841194e-07\n",
      "пьцр 1.1469462314351135e-08\n",
      "пьчр 7.161166271209078e-08\n",
      "пьшр 1.938915167869273e-08\n",
      "пьщр 9.402427107374327e-10\n",
      "пьэр 7.014826384118375e-08\n",
      "пьюр 8.117827779715205e-07\n",
      "пьяр 5.9061822016909e-07\n",
      "пэбр 1.6186623602231068e-11\n",
      "пэвр 4.032606195509947e-11\n",
      "пэгр 1.9654210205182619e-10\n",
      "пэдр 1.9866331771689995e-10\n",
      "пэер 2.1102839171190696e-11\n",
      "пэзр 3.220086124976495e-11\n",
      "пэйр 2.098450249073444e-10\n",
      "пэкр 1.5687644289277623e-09\n",
      "пэлр 2.3084884354108192e-10\n",
      "пэмр 2.2952471720476518e-11\n",
      "пэнр 4.3887522076132644e-11\n",
      "пэпр 1.3595920445219913e-09\n",
      "пэрр 9.605619252812942e-12\n",
      "пэср 1.889489152332633e-10\n",
      "пэтр 7.323824692196286e-08\n",
      "пэфр 1.8110212937946255e-10\n",
      "пэхр 1.086680714164484e-10\n",
      "пэцр 3.5960792162493466e-13\n",
      "пэчр 1.0353868535760978e-12\n",
      "пэшр 1.1970066721505282e-13\n",
      "пээр 2.4116562997862685e-12\n",
      "пяар 2.6480536375716525e-07\n",
      "пябр 8.231933517524998e-07\n",
      "пявр 6.994112894534845e-07\n",
      "пягр 7.230971799795488e-07\n",
      "пядр 1.8649711431615353e-06\n",
      "пяер 9.856764850583255e-07\n",
      "пяжр 7.722826194588275e-09\n",
      "пязр 4.915530809138341e-07\n",
      "пяир 3.743124678889831e-07\n",
      "пяйр 3.0616530001795754e-08\n",
      "пякр 1.181778258682316e-06\n",
      "пялр 1.201784353075792e-07\n",
      "пямр 1.3014534910722148e-07\n",
      "пянр 1.3471870420437093e-07\n",
      "пяор 1.167944513350594e-06\n",
      "пяпр 6.5225517210253455e-06\n",
      "пярр 7.50093615971255e-09\n",
      "пяср 3.664970214617141e-07\n",
      "пятр 2.4787511199480773e-06\n",
      "пяур 1.6183719424919724e-07\n",
      "пяфр 3.330497095283155e-07\n",
      "пяхр 1.5484023334660331e-07\n",
      "пяцр 2.6104922904618536e-09\n",
      "пячр 2.4889215209536586e-08\n",
      "пяшр 7.696324766308189e-10\n",
      "пящр 6.8100038880904776e-09\n",
      "пяэр 1.98577958326482e-08\n",
      "пяюр 8.141466126638053e-08\n",
      "пяяр 8.175013490994033e-08\n"
     ]
    }
   ],
   "source": [
    "start = position['п']\n",
    "end = position['р']\n",
    "prior = 1. / len(alphabet)\n",
    "for c in alphabet:\n",
    "    for j in alphabet:\n",
    "        proba = prior * probabilities[start, position[c]] * probabilities[position[c], position[j]] * probabilities[position[j], end]\n",
    "        if proba > 0:\n",
    "            print(''.join(['п', c, j, 'р']), proba)"
   ]
  },
  {
   "cell_type": "markdown",
   "metadata": {},
   "source": [
    "Используя матрицу переходных вероятностей сгенерируйте слово, начинающееся с буквы \"Б\" и имеющее длину 8-мь символов"
   ]
  },
  {
   "cell_type": "code",
   "execution_count": 326,
   "metadata": {},
   "outputs": [
    {
     "name": "stdout",
     "output_type": "stream",
     "text": [
      "богдупре\n"
     ]
    }
   ],
   "source": [
    "s = []\n",
    "start = 'б'\n",
    "s.append(start)\n",
    "length = 7\n",
    "for i in range(length):\n",
    "    index = position[s[i]]\n",
    "    next_char = np.random.choice(list(alphabet), p=probabilities[index])\n",
    "    s.append(next_char)\n",
    "\n",
    "print (''.join(s))"
   ]
  },
  {
   "cell_type": "code",
   "execution_count": null,
   "metadata": {},
   "outputs": [],
   "source": []
  },
  {
   "cell_type": "markdown",
   "metadata": {},
   "source": [
    "- [Выберите ряд](https://datamarket.com/data/list/?q=cat:fpg%20provider:tsdl) и оцените его через HMM. Попробуйте \"построить\" (через среднее каждой компоненты) наивный прогноз ряда."
   ]
  },
  {
   "cell_type": "code",
   "execution_count": 398,
   "metadata": {},
   "outputs": [],
   "source": [
    "series = pd.read_csv('monthly-sales-of-company-x-jan-6.csv')['Count']"
   ]
  },
  {
   "cell_type": "code",
   "execution_count": 399,
   "metadata": {},
   "outputs": [],
   "source": [
    "values = series.values.reshape(-1, 1)"
   ]
  },
  {
   "cell_type": "code",
   "execution_count": 400,
   "metadata": {},
   "outputs": [
    {
     "name": "stderr",
     "output_type": "stream",
     "text": [
      "Fitting a model with 119 free scalar parameters with only 77 data points will result in a degenerate solution.\n"
     ]
    },
    {
     "data": {
      "text/plain": [
       "[<matplotlib.lines.Line2D at 0x16a0badaeb8>]"
      ]
     },
     "execution_count": 400,
     "metadata": {},
     "output_type": "execute_result"
    },
    {
     "data": {
      "image/png": "[encoded data removed]",
      "text/plain": [
       "<Figure size 864x432 with 1 Axes>"
      ]
     },
     "metadata": {
      "needs_background": "light"
     },
     "output_type": "display_data"
    }
   ],
   "source": [
    "# model = GaussianHMM(n_components=10,\n",
    "#                         covariance_type=\"diag\",\n",
    "#                         n_iter=1000)\n",
    "model.fit(values)\n",
    "labels = model.predict(values)\n",
    "means = np.zeros_like(values)\n",
    "for i in range(model.n_components):\n",
    "    means[labels == i] = model.means_[i]\n",
    "    \n",
    "plt.figure(figsize=(12, 6))\n",
    "plt.plot(values)\n",
    "plt.plot(means, linewidth=3)"
   ]
  },
  {
   "cell_type": "code",
   "execution_count": 372,
   "metadata": {},
   "outputs": [
    {
     "data": {
      "text/plain": [
       "array([1, 6, 6, 6, 6, 6, 6, 1, 4, 0, 9, 8, 4, 6, 6, 6, 6, 6, 1, 4, 0, 9,\n",
       "       3, 8, 4, 6, 6, 6, 6, 6, 1, 4, 9, 7, 2, 3, 3, 0, 8, 1, 1, 1, 4, 0,\n",
       "       7, 2, 2, 7, 2, 3, 3, 8, 4, 4, 0, 9, 7, 5, 5, 2, 2, 3, 0, 9, 4, 0,\n",
       "       9, 7, 5, 5, 5, 5, 2, 3, 3, 0, 0])"
      ]
     },
     "execution_count": 372,
     "metadata": {},
     "output_type": "execute_result"
    }
   ],
   "source": [
    "model.predict(values)"
   ]
  },
  {
   "cell_type": "code",
   "execution_count": 408,
   "metadata": {},
   "outputs": [],
   "source": [
    "num_samples = 10\n",
    "samples, _ = model.sample(num_samples)"
   ]
  },
  {
   "cell_type": "code",
   "execution_count": 409,
   "metadata": {},
   "outputs": [
    {
     "data": {
      "text/plain": [
       "array([[143.4836169 ],\n",
       "       [145.1121614 ],\n",
       "       [140.27242593],\n",
       "       [191.57368239],\n",
       "       [259.33545765],\n",
       "       [332.47265007],\n",
       "       [456.66719217],\n",
       "       [640.61646008],\n",
       "       [389.50995128],\n",
       "       [190.26316114]])"
      ]
     },
     "execution_count": 409,
     "metadata": {},
     "output_type": "execute_result"
    }
   ],
   "source": [
    "samples"
   ]
  },
  {
   "cell_type": "code",
   "execution_count": 410,
   "metadata": {},
   "outputs": [
    {
     "data": {
      "text/plain": [
       "[<matplotlib.lines.Line2D at 0x16a0b97fb70>]"
      ]
     },
     "execution_count": 410,
     "metadata": {},
     "output_type": "execute_result"
    },
    {
     "data": {
      "image/png": "[encoded data removed]",
      "text/plain": [
       "<Figure size 864x432 with 1 Axes>"
      ]
     },
     "metadata": {
      "needs_background": "light"
     },
     "output_type": "display_data"
    }
   ],
   "source": [
    "plt.figure(figsize=(12, 6))\n",
    "plt.plot(values)\n",
    "plt.plot(means, linewidth=3)\n",
    "plt.plot([77, 78,79,80,81,82,83,84,85,86], samples)"
   ]
  },
  {
   "cell_type": "code",
   "execution_count": null,
   "metadata": {},
   "outputs": [],
   "source": []
  },
  {
   "cell_type": "code",
   "execution_count": null,
   "metadata": {},
   "outputs": [],
   "source": []
  },
  {
   "cell_type": "code",
   "execution_count": null,
   "metadata": {},
   "outputs": [],
   "source": []
  },
  {
   "cell_type": "code",
   "execution_count": null,
   "metadata": {},
   "outputs": [],
   "source": []
  },
  {
   "cell_type": "code",
   "execution_count": null,
   "metadata": {},
   "outputs": [],
   "source": []
  },
  {
   "cell_type": "code",
   "execution_count": null,
   "metadata": {},
   "outputs": [],
   "source": []
  },
  {
   "cell_type": "code",
   "execution_count": null,
   "metadata": {},
   "outputs": [],
   "source": []
  },
  {
   "cell_type": "code",
   "execution_count": null,
   "metadata": {},
   "outputs": [],
   "source": []
  },
  {
   "cell_type": "code",
   "execution_count": null,
   "metadata": {},
   "outputs": [],
   "source": []
  },
  {
   "cell_type": "code",
   "execution_count": null,
   "metadata": {},
   "outputs": [],
   "source": []
  },
  {
   "cell_type": "code",
   "execution_count": null,
   "metadata": {},
   "outputs": [],
   "source": []
  },
  {
   "cell_type": "code",
   "execution_count": null,
   "metadata": {},
   "outputs": [],
   "source": []
  },
  {
   "cell_type": "code",
   "execution_count": null,
   "metadata": {},
   "outputs": [],
   "source": []
  },
  {
   "cell_type": "markdown",
   "metadata": {},
   "source": [
    "### Практика"
   ]
  },
  {
   "cell_type": "code",
   "execution_count": 71,
   "metadata": {},
   "outputs": [],
   "source": [
    "import numpy as np\n",
    "import re\n",
    "import matplotlib.pyplot as plt\n",
    "import seaborn as sns\n",
    "import pandas as pd\n",
    "%matplotlib inline\n",
    "import seaborn as sns"
   ]
  },
  {
   "cell_type": "code",
   "execution_count": 29,
   "metadata": {},
   "outputs": [],
   "source": [
    "with open('alice_ru.txt', 'r') as f:\n",
    "    text = f.read().lower()\n",
    "text = re.sub('[^а-яё]','', text)"
   ]
  },
  {
   "cell_type": "markdown",
   "metadata": {},
   "source": [
    "#### Матрица вероятностей перехода от одной буквы к другой"
   ]
  },
  {
   "cell_type": "code",
   "execution_count": 197,
   "metadata": {},
   "outputs": [],
   "source": [
    "# определяем алфавит\n",
    "alphabet = 'абвгдеёжзийклмнопрстуфхцчшщъыьэюя'\n",
    "\n",
    "# создаем словарь соответствия буквы и ее позиции в алфавите\n",
    "position = {w: p for p, w in enumerate(alphabet)}"
   ]
  },
  {
   "cell_type": "code",
   "execution_count": 64,
   "metadata": {},
   "outputs": [],
   "source": [
    "# задаем матрицу вероятностей перехода букв (по деволту нули, потом будем добавлять значения)\n",
    "probabilities = np.zeros((len(alphabet), len(alphabet)))"
   ]
  },
  {
   "cell_type": "code",
   "execution_count": 65,
   "metadata": {
    "scrolled": false
   },
   "outputs": [],
   "source": [
    "# делаем счетчик количества встречающихся пар букв в тексте (то есть по парных переходов)\n",
    "for i, j in zip(text[:-1], text[1:]):\n",
    "    probabilities[position[i], position[j]] += 1"
   ]
  },
  {
   "cell_type": "code",
   "execution_count": 66,
   "metadata": {},
   "outputs": [],
   "source": [
    "# считаем вероятность перехода по строчно (1 строка как буква А переходит во все другие буквы и тд виз по матрице)\n",
    "probabilities = (probabilities / probabilities.sum(axis=1)[:, None])"
   ]
  },
  {
   "cell_type": "code",
   "execution_count": 68,
   "metadata": {},
   "outputs": [],
   "source": [
    "# переводим матрицу в датафрейм\n",
    "df = pd.DataFrame(probabilities, index=(c for c in alphabet), columns=(c for c in alphabet))"
   ]
  },
  {
   "cell_type": "code",
   "execution_count": 74,
   "metadata": {},
   "outputs": [
    {
     "data": {
      "text/plain": [
       "<matplotlib.axes._subplots.AxesSubplot at 0x16a7fc40588>"
      ]
     },
     "execution_count": 74,
     "metadata": {},
     "output_type": "execute_result"
    },
    {
     "data": {
      "image/png": "[encoded data removed]",
      "text/plain": [
       "<Figure size 1152x864 with 2 Axes>"
      ]
     },
     "metadata": {
      "needs_background": "light"
     },
     "output_type": "display_data"
    }
   ],
   "source": [
    "plt.figure(figsize=(16,12))\n",
    "sns.heatmap(df)"
   ]
  },
  {
   "cell_type": "markdown",
   "metadata": {},
   "source": [
    "#### Вероятность слова в тексте"
   ]
  },
  {
   "cell_type": "code",
   "execution_count": 102,
   "metadata": {},
   "outputs": [
    {
     "name": "stdout",
     "output_type": "stream",
     "text": [
      "0.00029845239654724594\n"
     ]
    }
   ],
   "source": [
    "string = \"дом\"\n",
    "proba = 1.0 / 33\n",
    "for cp, cn in zip(string[1:], string[:-1]):\n",
    "    proba *= probabilities[position[cp], position[cn]]\n",
    "print(proba)"
   ]
  },
  {
   "cell_type": "markdown",
   "metadata": {},
   "source": [
    "#### Генерация строк из выборки"
   ]
  },
  {
   "cell_type": "code",
   "execution_count": 223,
   "metadata": {},
   "outputs": [
    {
     "name": "stdout",
     "output_type": "stream",
     "text": [
      "цаска\n"
     ]
    }
   ],
   "source": [
    "s = []\n",
    "start = np.random.choice(list(alphabet))\n",
    "s.append(start)\n",
    "length = 4\n",
    "for i in range(length):\n",
    "    index = position[s[i]]\n",
    "    next_char = np.random.choice(list(alphabet), p=probabilities[index])\n",
    "    s.append(next_char)\n",
    "\n",
    "print (''.join(s))"
   ]
  },
  {
   "cell_type": "code",
   "execution_count": 222,
   "metadata": {},
   "outputs": [
    {
     "data": {
      "text/plain": [
       "а    0.158832\n",
       "б    0.003856\n",
       "в    0.009916\n",
       "г    0.005692\n",
       "д    0.013772\n",
       "е    0.125230\n",
       "ё    0.000000\n",
       "ж    0.001102\n",
       "з    0.013588\n",
       "и    0.091994\n",
       "й    0.000000\n",
       "к    0.014873\n",
       "л    0.021300\n",
       "м    0.008814\n",
       "н    0.037275\n",
       "о    0.194822\n",
       "п    0.014322\n",
       "р    0.027360\n",
       "с    0.109805\n",
       "т    0.018913\n",
       "у    0.020749\n",
       "ф    0.001285\n",
       "х    0.001102\n",
       "ц    0.000918\n",
       "ч    0.003122\n",
       "ш    0.010650\n",
       "щ    0.000000\n",
       "ъ    0.000000\n",
       "ы    0.074183\n",
       "ь    0.004040\n",
       "э    0.004223\n",
       "ю    0.000184\n",
       "я    0.008079\n",
       "Name: в, dtype: float64"
      ]
     },
     "execution_count": 222,
     "metadata": {},
     "output_type": "execute_result"
    }
   ],
   "source": [
    "df.iloc[2, :]"
   ]
  },
  {
   "cell_type": "code",
   "execution_count": null,
   "metadata": {},
   "outputs": [],
   "source": []
  },
  {
   "cell_type": "code",
   "execution_count": null,
   "metadata": {},
   "outputs": [],
   "source": []
  },
  {
   "cell_type": "code",
   "execution_count": null,
   "metadata": {},
   "outputs": [],
   "source": []
  },
  {
   "cell_type": "code",
   "execution_count": 201,
   "metadata": {},
   "outputs": [
    {
     "ename": "IndexError",
     "evalue": "list index out of range",
     "output_type": "error",
     "traceback": [
      "\u001b[1;31m---------------------------------------------------------------------------\u001b[0m",
      "\u001b[1;31mIndexError\u001b[0m                                Traceback (most recent call last)",
      "\u001b[1;32m<ipython-input-201-37d0a6b63f6e>\u001b[0m in \u001b[0;36m<module>\u001b[1;34m\u001b[0m\n\u001b[1;32m----> 1\u001b[1;33m \u001b[0mposition\u001b[0m\u001b[1;33m[\u001b[0m\u001b[0ms\u001b[0m\u001b[1;33m[\u001b[0m\u001b[1;36m1\u001b[0m\u001b[1;33m]\u001b[0m\u001b[1;33m]\u001b[0m\u001b[1;33m\u001b[0m\u001b[1;33m\u001b[0m\u001b[0m\n\u001b[0m",
      "\u001b[1;31mIndexError\u001b[0m: list index out of range"
     ]
    }
   ],
   "source": [
    "position[s[1]]"
   ]
  },
  {
   "cell_type": "code",
   "execution_count": 196,
   "metadata": {},
   "outputs": [
    {
     "data": {
      "text/plain": [
       "['ё']"
      ]
     },
     "execution_count": 196,
     "metadata": {},
     "output_type": "execute_result"
    }
   ],
   "source": [
    "s"
   ]
  },
  {
   "cell_type": "code",
   "execution_count": 175,
   "metadata": {
    "scrolled": true
   },
   "outputs": [
    {
     "data": {
      "text/plain": [
       "['ю', 'о', 'н', 'а', 'с']"
      ]
     },
     "execution_count": 175,
     "metadata": {},
     "output_type": "execute_result"
    }
   ],
   "source": [
    "np.choose()"
   ]
  },
  {
   "cell_type": "code",
   "execution_count": 150,
   "metadata": {},
   "outputs": [
    {
     "name": "stdout",
     "output_type": "stream",
     "text": [
      "0\n",
      "1\n",
      "2\n",
      "3\n"
     ]
    }
   ],
   "source": [
    "for i in range(length):\n",
    "    print(i)"
   ]
  },
  {
   "cell_type": "code",
   "execution_count": 186,
   "metadata": {},
   "outputs": [],
   "source": [
    "s = 'л'"
   ]
  },
  {
   "cell_type": "code",
   "execution_count": 187,
   "metadata": {},
   "outputs": [],
   "source": [
    "index = position[s[0]]"
   ]
  },
  {
   "cell_type": "code",
   "execution_count": 188,
   "metadata": {
    "scrolled": true
   },
   "outputs": [
    {
     "data": {
      "text/plain": [
       "12"
      ]
     },
     "execution_count": 188,
     "metadata": {},
     "output_type": "execute_result"
    }
   ],
   "source": [
    "index"
   ]
  },
  {
   "cell_type": "code",
   "execution_count": 192,
   "metadata": {},
   "outputs": [
    {
     "data": {
      "text/plain": [
       "0.44668587896253603"
      ]
     },
     "execution_count": 192,
     "metadata": {},
     "output_type": "execute_result"
    }
   ],
   "source": [
    "probabilities[index].max()"
   ]
  },
  {
   "cell_type": "code",
   "execution_count": 170,
   "metadata": {},
   "outputs": [
    {
     "data": {
      "text/plain": [
       "'е'"
      ]
     },
     "execution_count": 170,
     "metadata": {},
     "output_type": "execute_result"
    }
   ],
   "source": [
    "np.random.choice(list(alphabet), p=probabilities[2])"
   ]
  },
  {
   "cell_type": "code",
   "execution_count": 189,
   "metadata": {},
   "outputs": [
    {
     "data": {
      "text/plain": [
       "щ    0.000000\n",
       "й    0.000000\n",
       "ф    0.000000\n",
       "ъ    0.000000\n",
       "ё    0.000129\n",
       "ц    0.000129\n",
       "х    0.000258\n",
       "з    0.001032\n",
       "э    0.001161\n",
       "р    0.001806\n",
       "т    0.003097\n",
       "б    0.003871\n",
       "д    0.004000\n",
       "ш    0.005290\n",
       "ч    0.006581\n",
       "в    0.006710\n",
       "п    0.008258\n",
       "м    0.008903\n",
       "г    0.009161\n",
       "л    0.011742\n",
       "н    0.014194\n",
       "ж    0.016516\n",
       "к    0.016774\n",
       "ы    0.019484\n",
       "ю    0.020000\n",
       "с    0.020516\n",
       "у    0.028774\n",
       "я    0.042323\n",
       "е    0.096387\n",
       "ь    0.102065\n",
       "о    0.107355\n",
       "и    0.205290\n",
       "а    0.238194\n",
       "Name: л, dtype: float64"
      ]
     },
     "execution_count": 189,
     "metadata": {},
     "output_type": "execute_result"
    }
   ],
   "source": [
    "df.iloc[12, :].sort_values()"
   ]
  },
  {
   "cell_type": "code",
   "execution_count": null,
   "metadata": {},
   "outputs": [],
   "source": [
    "налал"
   ]
  }
 ],
 "metadata": {
  "kernelspec": {
   "display_name": "Python 3",
   "language": "python",
   "name": "python3"
  },
  "language_info": {
   "codemirror_mode": {
    "name": "ipython",
    "version": 3
   },
   "file_extension": ".py",
   "mimetype": "text/x-python",
   "name": "python",
   "nbconvert_exporter": "python",
   "pygments_lexer": "ipython3",
   "version": "3.7.3"
  }
 },
 "nbformat": 4,
 "nbformat_minor": 2
}
