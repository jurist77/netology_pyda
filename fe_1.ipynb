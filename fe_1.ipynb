{
 "cells": [
  {
   "cell_type": "code",
   "execution_count": null,
   "metadata": {},
   "outputs": [],
   "source": [
    "import numpy as np\n",
    "import pandas as pd\n",
    "\n",
    "from sklearn.linear_model import LinearRegression\n",
    "from sklearn.metrics import mean_absolute_error"
   ]
  },
  {
   "cell_type": "code",
   "execution_count": 110,
   "metadata": {
    "scrolled": true
   },
   "outputs": [
    {
     "data": {
      "text/html": [
       "<div>\n",
       "<style scoped>\n",
       "    .dataframe tbody tr th:only-of-type {\n",
       "        vertical-align: middle;\n",
       "    }\n",
       "\n",
       "    .dataframe tbody tr th {\n",
       "        vertical-align: top;\n",
       "    }\n",
       "\n",
       "    .dataframe thead th {\n",
       "        text-align: right;\n",
       "    }\n",
       "</style>\n",
       "<table border=\"1\" class=\"dataframe\">\n",
       "  <thead>\n",
       "    <tr style=\"text-align: right;\">\n",
       "      <th></th>\n",
       "      <th>qty_drivers</th>\n",
       "      <th>distance</th>\n",
       "      <th>qty_ways</th>\n",
       "      <th>fuel_cost</th>\n",
       "    </tr>\n",
       "  </thead>\n",
       "  <tbody>\n",
       "    <tr>\n",
       "      <th>0</th>\n",
       "      <td>10</td>\n",
       "      <td>118</td>\n",
       "      <td>3</td>\n",
       "      <td>173.46</td>\n",
       "    </tr>\n",
       "    <tr>\n",
       "      <th>1</th>\n",
       "      <td>2</td>\n",
       "      <td>901</td>\n",
       "      <td>9</td>\n",
       "      <td>3973.41</td>\n",
       "    </tr>\n",
       "    <tr>\n",
       "      <th>2</th>\n",
       "      <td>7</td>\n",
       "      <td>651</td>\n",
       "      <td>2</td>\n",
       "      <td>637.98</td>\n",
       "    </tr>\n",
       "    <tr>\n",
       "      <th>3</th>\n",
       "      <td>4</td>\n",
       "      <td>1293</td>\n",
       "      <td>3</td>\n",
       "      <td>1900.71</td>\n",
       "    </tr>\n",
       "    <tr>\n",
       "      <th>4</th>\n",
       "      <td>3</td>\n",
       "      <td>2000</td>\n",
       "      <td>3</td>\n",
       "      <td>2940.00</td>\n",
       "    </tr>\n",
       "  </tbody>\n",
       "</table>\n",
       "</div>"
      ],
      "text/plain": [
       "   qty_drivers  distance  qty_ways  fuel_cost\n",
       "0           10       118         3     173.46\n",
       "1            2       901         9    3973.41\n",
       "2            7       651         2     637.98\n",
       "3            4      1293         3    1900.71\n",
       "4            3      2000         3    2940.00"
      ]
     },
     "execution_count": 110,
     "metadata": {},
     "output_type": "execute_result"
    }
   ],
   "source": [
    "# создаю датасет, с данными о количестве водителей на маршруте, дистанцией маршрута, количеством рейсов, расходы на топливо\n",
    "\n",
    "data_size = 1000\n",
    "\n",
    "\n",
    "qty_drivers = np.random.choice(10, n_samples) + 1\n",
    "distance = np.random.choice(2000, n_samples) + 50\n",
    "qty_ways = np.random.choice(10, n_samples) + 1\n",
    "\n",
    "fuel_cost = distance * qty_ways * 0.49\n",
    "\n",
    "data = pd.DataFrame({'qty_drivers': qty_drivers, 'distance': distance, 'qty_ways': qty_ways, 'fuel_cost': fuel_cost})\n",
    "data.head(5)"
   ]
  },
  {
   "cell_type": "code",
   "execution_count": 104,
   "metadata": {},
   "outputs": [
    {
     "name": "stdout",
     "output_type": "stream",
     "text": [
      "Weights: [   8.88169043   25.58339819 5166.16895362]\n",
      "Bias: -27023.68832989245\n",
      "Error: 6125.8029943440815\n"
     ]
    }
   ],
   "source": [
    "# создаю две оси, со всеми признаками (Х) и то что предсказываем (у)\n",
    "\n",
    "X = data[['qty_drivers', 'distance', 'qty_ways']]\n",
    "y = data['fuel_cost']\n",
    "reg = LinearRegression().fit(X, y)\n",
    "pred_values = reg.predict(X)\n",
    "\n",
    "print('Weights: {}'.format(reg.coef_))\n",
    "print('Bias: {}'.format(reg.intercept_))\n",
    "print('Error: {}'.format(mean_absolute_error(pred_values, y)))"
   ]
  },
  {
   "cell_type": "markdown",
   "metadata": {},
   "source": [
    "- применяя все в признаки в модели, получам очень плохое качество"
   ]
  },
  {
   "cell_type": "code",
   "execution_count": 105,
   "metadata": {},
   "outputs": [
    {
     "data": {
      "text/html": [
       "<div>\n",
       "<style scoped>\n",
       "    .dataframe tbody tr th:only-of-type {\n",
       "        vertical-align: middle;\n",
       "    }\n",
       "\n",
       "    .dataframe tbody tr th {\n",
       "        vertical-align: top;\n",
       "    }\n",
       "\n",
       "    .dataframe thead th {\n",
       "        text-align: right;\n",
       "    }\n",
       "</style>\n",
       "<table border=\"1\" class=\"dataframe\">\n",
       "  <thead>\n",
       "    <tr style=\"text-align: right;\">\n",
       "      <th></th>\n",
       "      <th>qty_drivers</th>\n",
       "      <th>distance</th>\n",
       "      <th>qty_ways</th>\n",
       "      <th>fuel_cost</th>\n",
       "      <th>common_distance</th>\n",
       "    </tr>\n",
       "  </thead>\n",
       "  <tbody>\n",
       "    <tr>\n",
       "      <th>0</th>\n",
       "      <td>4</td>\n",
       "      <td>1378</td>\n",
       "      <td>5</td>\n",
       "      <td>33761.0</td>\n",
       "      <td>6890</td>\n",
       "    </tr>\n",
       "    <tr>\n",
       "      <th>1</th>\n",
       "      <td>2</td>\n",
       "      <td>281</td>\n",
       "      <td>3</td>\n",
       "      <td>4130.7</td>\n",
       "      <td>843</td>\n",
       "    </tr>\n",
       "    <tr>\n",
       "      <th>2</th>\n",
       "      <td>2</td>\n",
       "      <td>732</td>\n",
       "      <td>8</td>\n",
       "      <td>28694.4</td>\n",
       "      <td>5856</td>\n",
       "    </tr>\n",
       "    <tr>\n",
       "      <th>3</th>\n",
       "      <td>6</td>\n",
       "      <td>626</td>\n",
       "      <td>5</td>\n",
       "      <td>15337.0</td>\n",
       "      <td>3130</td>\n",
       "    </tr>\n",
       "    <tr>\n",
       "      <th>4</th>\n",
       "      <td>10</td>\n",
       "      <td>1638</td>\n",
       "      <td>6</td>\n",
       "      <td>48157.2</td>\n",
       "      <td>9828</td>\n",
       "    </tr>\n",
       "  </tbody>\n",
       "</table>\n",
       "</div>"
      ],
      "text/plain": [
       "   qty_drivers  distance  qty_ways  fuel_cost  common_distance\n",
       "0            4      1378         5    33761.0             6890\n",
       "1            2       281         3     4130.7              843\n",
       "2            2       732         8    28694.4             5856\n",
       "3            6       626         5    15337.0             3130\n",
       "4           10      1638         6    48157.2             9828"
      ]
     },
     "execution_count": 105,
     "metadata": {},
     "output_type": "execute_result"
    }
   ],
   "source": [
    "# Создаем новый признак, общая дистанция на маршруте\n",
    "\n",
    "data['common_distance'] = data['distance'] * data['qty_ways']\n",
    "data.head(5)"
   ]
  },
  {
   "cell_type": "code",
   "execution_count": 109,
   "metadata": {},
   "outputs": [
    {
     "name": "stdout",
     "output_type": "stream",
     "text": [
      "Weights: [4.9]\n",
      "Bias: -3.637978807091713e-12\n",
      "Error: 3.76792286260752e-12\n"
     ]
    }
   ],
   "source": [
    "# в качестве оси Х выбираю новый признак\n",
    "\n",
    "X = data[['common_distance']]\n",
    "y = data['fuel_cost']\n",
    "reg = LinearRegression().fit(X, y)\n",
    "pred_values = reg.predict(data[['common_distance']])\n",
    "\n",
    "print('Weights: {}'.format(reg.coef_))\n",
    "print('Bias: {}'.format(reg.intercept_))\n",
    "print('Error: {}'.format(mean_absolute_error(pred_values, y)))"
   ]
  },
  {
   "cell_type": "markdown",
   "metadata": {},
   "source": [
    "- после того как создал новый признак (общая дистанция), модель сильно лучше стала работать"
   ]
  }
 ],
 "metadata": {
  "kernelspec": {
   "display_name": "Python 3",
   "language": "python",
   "name": "python3"
  },
  "language_info": {
   "codemirror_mode": {
    "name": "ipython",
    "version": 3
   },
   "file_extension": ".py",
   "mimetype": "text/x-python",
   "name": "python",
   "nbconvert_exporter": "python",
   "pygments_lexer": "ipython3",
   "version": "3.7.3"
  }
 },
 "nbformat": 4,
 "nbformat_minor": 2
}
