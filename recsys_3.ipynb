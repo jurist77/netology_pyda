{
 "cells": [
  {
   "cell_type": "markdown",
   "metadata": {},
   "source": [
    "### Домашнее задание. Коллоборативная фильтрация\n",
    "\n",
    "- используйте данные MovieLens 1M\n",
    "- можно использовать любые модели из пакета\n",
    "- получите RMSE на тестовом сете 0.87 и ниже"
   ]
  },
  {
   "cell_type": "code",
   "execution_count": 2,
   "metadata": {},
   "outputs": [
    {
     "name": "stdout",
     "output_type": "stream",
     "text": [
      "Collecting scikit-surprise\n",
      "  Downloading https://files.pythonhosted.org/packages/f5/da/b5700d96495fb4f092be497f02492768a3d96a3f4fa2ae7dea46d4081cfa/scikit-surprise-1.1.0.tar.gz (6.4MB)\n",
      "Requirement already satisfied: joblib>=0.11 in c:\\programdata\\anaconda3\\lib\\site-packages (from scikit-surprise) (0.13.2)\n",
      "Requirement already satisfied: numpy>=1.11.2 in c:\\programdata\\anaconda3\\lib\\site-packages (from scikit-surprise) (1.16.4)\n",
      "Requirement already satisfied: scipy>=1.0.0 in c:\\programdata\\anaconda3\\lib\\site-packages (from scikit-surprise) (1.2.1)\n",
      "Requirement already satisfied: six>=1.10.0 in c:\\programdata\\anaconda3\\lib\\site-packages (from scikit-surprise) (1.12.0)\n",
      "Building wheels for collected packages: scikit-surprise\n",
      "  Building wheel for scikit-surprise (setup.py): started\n",
      "  Building wheel for scikit-surprise (setup.py): finished with status 'done'\n",
      "  Stored in directory: C:\\Users\\38E2~1\\AppData\\Local\\pip\\Cache\\wheels\\cc\\fa\\8c\\16c93fccce688ae1bde7d979ff102f7bee980d9cfeb8641bcf\n",
      "Successfully built scikit-surprise\n",
      "Installing collected packages: scikit-surprise\n",
      "Successfully installed scikit-surprise-1.1.0\n",
      "Note: you may need to restart the kernel to use updated packages.\n"
     ]
    }
   ],
   "source": [
    "pip install scikit-surprise"
   ]
  },
  {
   "cell_type": "code",
   "execution_count": 38,
   "metadata": {},
   "outputs": [],
   "source": [
    "from surprise import KNNWithMeans, KNNBasic, SVD, BaselineOnly\n",
    "from surprise import Dataset\n",
    "from surprise import accuracy\n",
    "from surprise import Reader\n",
    "from surprise.model_selection import train_test_split\n",
    "import pandas as pd\n",
    "import numpy as np\n",
    "from surprise.model_selection import cross_validate\n",
    "from surprise.model_selection import GridSearchCV"
   ]
  },
  {
   "cell_type": "markdown",
   "metadata": {},
   "source": [
    "комп не тянет загрузку данных. использовал маленький DF"
   ]
  },
  {
   "cell_type": "code",
   "execution_count": 2,
   "metadata": {},
   "outputs": [],
   "source": [
    "movies = pd.read_csv('movies.csv')\n",
    "ratings = pd.read_csv('ratings.csv')"
   ]
  },
  {
   "cell_type": "code",
   "execution_count": 3,
   "metadata": {},
   "outputs": [],
   "source": [
    "data = movies.join(ratings.set_index('movieId'), on='movieId').reset_index(drop=True)\n",
    "data.dropna(inplace=True)"
   ]
  },
  {
   "cell_type": "code",
   "execution_count": 4,
   "metadata": {},
   "outputs": [
    {
     "name": "stdout",
     "output_type": "stream",
     "text": [
      "Количество фильмов: 9724\n",
      "Количество пользователей: 610\n"
     ]
    }
   ],
   "source": [
    "print(f'Количество фильмов: {data.movieId.unique().shape[0]}')\n",
    "print(f'Количество пользователей: {data.userId.unique().shape[0]}')"
   ]
  },
  {
   "cell_type": "code",
   "execution_count": 5,
   "metadata": {},
   "outputs": [],
   "source": [
    "# определяем данные для дальнейшего обучения в формате user item rating\n",
    "dataset = pd.DataFrame({\n",
    "    'uid': data.userId,\n",
    "    'iid': data.title,\n",
    "    'rating': data.rating\n",
    "})"
   ]
  },
  {
   "cell_type": "code",
   "execution_count": 42,
   "metadata": {},
   "outputs": [
    {
     "data": {
      "text/plain": [
       "(100836, 3)"
      ]
     },
     "execution_count": 42,
     "metadata": {},
     "output_type": "execute_result"
    }
   ],
   "source": [
    "dataset.shape"
   ]
  },
  {
   "cell_type": "code",
   "execution_count": 7,
   "metadata": {},
   "outputs": [
    {
     "name": "stdout",
     "output_type": "stream",
     "text": [
      "Минимальная оценка: 0.5\n",
      "Максимальная оценка: 5.0\n"
     ]
    }
   ],
   "source": [
    "# для дальнейшей настройки алгоритма определим минимум и максимум значений в таргете\n",
    "print(f'Минимальная оценка: {dataset.rating.min()}')\n",
    "print(f'Максимальная оценка: {dataset.rating.max()}')"
   ]
  },
  {
   "cell_type": "code",
   "execution_count": 8,
   "metadata": {},
   "outputs": [],
   "source": [
    "# формируем данные в необходимом формате для surprise\n",
    "reader = Reader(rating_scale=(0.5, 5.0))\n",
    "data_sur = Dataset.load_from_df(dataset, reader)"
   ]
  },
  {
   "cell_type": "code",
   "execution_count": 9,
   "metadata": {},
   "outputs": [],
   "source": [
    "# делим данные на тренировочную и тестовую выборку\n",
    "trainset, testset = train_test_split(data_sur, test_size=.15)"
   ]
  },
  {
   "cell_type": "code",
   "execution_count": 35,
   "metadata": {},
   "outputs": [],
   "source": [
    "# выбрал алгоритмы которые посмотрю на качество\n",
    "algoritms = [('KNNWithMeans', KNNWithMeans()), ('KNNBasic', KNNBasic()), ('SVD', SVD()), ('BaselineOnly', BaselineOnly())]"
   ]
  },
  {
   "cell_type": "code",
   "execution_count": 36,
   "metadata": {
    "scrolled": true
   },
   "outputs": [
    {
     "name": "stdout",
     "output_type": "stream",
     "text": [
      "Computing the msd similarity matrix...\n",
      "Done computing similarity matrix.\n",
      "Computing the msd similarity matrix...\n",
      "Done computing similarity matrix.\n",
      "Computing the msd similarity matrix...\n",
      "Done computing similarity matrix.\n",
      "Computing the msd similarity matrix...\n",
      "Done computing similarity matrix.\n",
      "Computing the msd similarity matrix...\n",
      "Done computing similarity matrix.\n",
      "Computing the msd similarity matrix...\n",
      "Done computing similarity matrix.\n",
      "Evaluating RMSE of algorithm KNNWithMeans on 5 split(s).\n",
      "\n",
      "                  Fold 1  Fold 2  Fold 3  Fold 4  Fold 5  Mean    Std     \n",
      "RMSE (testset)    0.8936  0.8928  0.8991  0.8927  0.9033  0.8963  0.0042  \n",
      "Fit time          0.21    0.24    0.23    0.24    0.24    0.23    0.01    \n",
      "Test time         3.48    3.37    3.52    3.34    3.39    3.42    0.07    \n",
      "KNNWithMeans: 0.90\n",
      "Computing the msd similarity matrix...\n",
      "Done computing similarity matrix.\n",
      "Computing the msd similarity matrix...\n",
      "Done computing similarity matrix.\n",
      "Computing the msd similarity matrix...\n",
      "Done computing similarity matrix.\n",
      "Computing the msd similarity matrix...\n",
      "Done computing similarity matrix.\n",
      "Computing the msd similarity matrix...\n",
      "Done computing similarity matrix.\n",
      "Computing the msd similarity matrix...\n",
      "Done computing similarity matrix.\n",
      "Evaluating RMSE of algorithm KNNBasic on 5 split(s).\n",
      "\n",
      "                  Fold 1  Fold 2  Fold 3  Fold 4  Fold 5  Mean    Std     \n",
      "RMSE (testset)    0.9488  0.9412  0.9438  0.9502  0.9529  0.9474  0.0042  \n",
      "Fit time          0.16    0.23    0.19    0.19    0.19    0.19    0.02    \n",
      "Test time         3.01    3.37    3.12    3.11    3.05    3.13    0.13    \n",
      "KNNBasic: 0.95\n",
      "Evaluating RMSE of algorithm SVD on 5 split(s).\n",
      "\n",
      "                  Fold 1  Fold 2  Fold 3  Fold 4  Fold 5  Mean    Std     \n",
      "RMSE (testset)    0.8763  0.8795  0.8633  0.8644  0.8789  0.8725  0.0071  \n",
      "Fit time          10.72   10.60   10.84   10.85   12.21   11.04   0.59    \n",
      "Test time         0.26    0.26    0.30    0.41    0.25    0.30    0.06    \n",
      "SVD: 0.87\n",
      "Estimating biases using als...\n",
      "Estimating biases using als...\n",
      "Estimating biases using als...\n",
      "Estimating biases using als...\n",
      "Estimating biases using als...\n",
      "Estimating biases using als...\n",
      "Evaluating RMSE of algorithm BaselineOnly on 5 split(s).\n",
      "\n",
      "                  Fold 1  Fold 2  Fold 3  Fold 4  Fold 5  Mean    Std     \n",
      "RMSE (testset)    0.8689  0.8677  0.8732  0.8801  0.8723  0.8724  0.0043  \n",
      "Fit time          0.35    0.37    0.41    0.38    0.38    0.38    0.02    \n",
      "Test time         0.31    0.17    0.47    0.27    0.17    0.28    0.11    \n",
      "BaselineOnly: 0.87\n"
     ]
    }
   ],
   "source": [
    "# делаю перебор моделей и смотрию их качество\n",
    "for model in algoritms:\n",
    "    algo = model[1]\n",
    "    algo.fit(trainset)\n",
    "    test_pred = algo.test(testset)\n",
    "    cros_val = cross_validate(algo, data_sur, measures=['RMSE'], cv=5, verbose=True)\n",
    "    RMSE_mean = cros_val['test_rmse'].mean()\n",
    "    print(f'{model[0]}: {RMSE_mean:.2f}')"
   ]
  },
  {
   "cell_type": "markdown",
   "metadata": {},
   "source": [
    "т.о. низкую ошибку показывают алгоритмы SVD и BaselineOnly  \n",
    "беру SVD для дальнейшей работы, подбора оптимальных параметров"
   ]
  },
  {
   "cell_type": "code",
   "execution_count": 39,
   "metadata": {},
   "outputs": [],
   "source": [
    "# выберу параметры для SVD по которым буду делать перебор\n",
    "\n",
    "param_grid = {'n_epochs': [5, 10, 20, 30], 'lr_all': [0.001, 0.005, 0.007, 0.01],\n",
    "              'reg_all': [0.01, 0.7, 0.1, 0.5], 'random_state':[77, 777]}\n",
    "\n",
    "# использую GridSearchCV для перебора параметров\n",
    "gs = GridSearchCV(SVD, param_grid, measures=['rmse'], cv=3)\n",
    "\n",
    "gs.fit(data_sur)"
   ]
  },
  {
   "cell_type": "code",
   "execution_count": 44,
   "metadata": {},
   "outputs": [
    {
     "name": "stdout",
     "output_type": "stream",
     "text": [
      "{'n_epochs': 30, 'lr_all': 0.01, 'reg_all': 0.1, 'random_state': 777}\n"
     ]
    }
   ],
   "source": [
    "# вывожу оптимальные параметры алгоритма\n",
    "print(gs.best_params['rmse'])"
   ]
  },
  {
   "cell_type": "code",
   "execution_count": 47,
   "metadata": {},
   "outputs": [
    {
     "name": "stdout",
     "output_type": "stream",
     "text": [
      "SVD: 0.85\n"
     ]
    }
   ],
   "source": [
    "# обучаю модель на оптимальных параметрах и делаю оценку\n",
    "algo_best = SVD(n_epochs=30, lr_all=0.01, reg_all=0.1, random_state=777)\n",
    "algo_best.fit(trainset)\n",
    "test_pred = algo_best.test(testset)\n",
    "cros_val = cross_validate(algo_best, data_sur, measures=['RMSE'], cv=5, verbose=True)\n",
    "RMSE_mean = cros_val['test_rmse'].mean()\n",
    "print(f'SVD: {RMSE_mean:.2f}')"
   ]
  },
  {
   "cell_type": "markdown",
   "metadata": {},
   "source": [
    "т.о. после подбора оптимальных параметров для алгоритма SVD получил на кросс валидации RMSE 0,85"
   ]
  },
  {
   "cell_type": "code",
   "execution_count": null,
   "metadata": {},
   "outputs": [],
   "source": []
  },
  {
   "cell_type": "code",
   "execution_count": null,
   "metadata": {},
   "outputs": [],
   "source": []
  },
  {
   "cell_type": "code",
   "execution_count": null,
   "metadata": {},
   "outputs": [],
   "source": []
  },
  {
   "cell_type": "code",
   "execution_count": null,
   "metadata": {},
   "outputs": [],
   "source": []
  },
  {
   "cell_type": "code",
   "execution_count": null,
   "metadata": {},
   "outputs": [],
   "source": []
  },
  {
   "cell_type": "code",
   "execution_count": null,
   "metadata": {},
   "outputs": [],
   "source": []
  },
  {
   "cell_type": "code",
   "execution_count": null,
   "metadata": {},
   "outputs": [],
   "source": []
  },
  {
   "cell_type": "code",
   "execution_count": null,
   "metadata": {},
   "outputs": [],
   "source": []
  }
 ],
 "metadata": {
  "kernelspec": {
   "display_name": "Python 3",
   "language": "python",
   "name": "python3"
  },
  "language_info": {
   "codemirror_mode": {
    "name": "ipython",
    "version": 3
   },
   "file_extension": ".py",
   "mimetype": "text/x-python",
   "name": "python",
   "nbconvert_exporter": "python",
   "pygments_lexer": "ipython3",
   "version": "3.7.3"
  }
 },
 "nbformat": 4,
 "nbformat_minor": 2
}
