{
 "cells": [
  {
   "cell_type": "markdown",
   "metadata": {},
   "source": [
    "Задание 1:  \n",
    "Посчитайте частные производные функций в точках (как обычно, необходимо решение на бумажке или в LaTeX и на numpy):\n",
    "\n",
    "1) $f(x,y)=2x^2y^3 + 1/x + y^2x + 7$ в точке $(1,2)$\n",
    "\n",
    "2) $f(x,y)=x^2y - sin(xy) + cos(x^2) + 6y$"
   ]
  },
  {
   "cell_type": "code",
   "execution_count": 10,
   "metadata": {},
   "outputs": [],
   "source": [
    "from sympy import *\n",
    "import numpy as np"
   ]
  },
  {
   "cell_type": "code",
   "execution_count": 28,
   "metadata": {},
   "outputs": [],
   "source": [
    "x, y = symbols('x y')\n",
    "init_printing(use_unicode=True)"
   ]
  },
  {
   "cell_type": "markdown",
   "metadata": {},
   "source": [
    "1)  𝑓(𝑥,𝑦)=2𝑥2𝑦3+1/𝑥+𝑦2𝑥+7"
   ]
  },
  {
   "cell_type": "code",
   "execution_count": 35,
   "metadata": {},
   "outputs": [
    {
     "data": {
      "image/png": "[encoded data removed]",
      "text/latex": [
       "$\\displaystyle 4 x y^{3} + y^{2} - \\frac{1}{x^{2}}$"
      ],
      "text/plain": [
       "     3    2   1 \n",
       "4⋅x⋅y  + y  - ──\n",
       "               2\n",
       "              x "
      ]
     },
     "execution_count": 35,
     "metadata": {},
     "output_type": "execute_result"
    }
   ],
   "source": [
    "# частная производная по х\n",
    "\n",
    "diff((2*x**2*y**3 + 1/x + y**2*x + 7), x)"
   ]
  },
  {
   "cell_type": "code",
   "execution_count": 24,
   "metadata": {},
   "outputs": [],
   "source": [
    "def f_x(x, y):\n",
    "    return 4*x*y**3 + y**2 - 1/x**2"
   ]
  },
  {
   "cell_type": "code",
   "execution_count": 25,
   "metadata": {},
   "outputs": [
    {
     "data": {
      "image/png": "[encoded data removed]",
      "text/latex": [
       "$\\displaystyle 35.0$"
      ],
      "text/plain": [
       "35.0"
      ]
     },
     "execution_count": 25,
     "metadata": {},
     "output_type": "execute_result"
    }
   ],
   "source": [
    "f_x(1, 2)"
   ]
  },
  {
   "cell_type": "code",
   "execution_count": 36,
   "metadata": {},
   "outputs": [
    {
     "data": {
      "image/png": "[encoded data removed]",
      "text/latex": [
       "$\\displaystyle 6 x^{2} y^{2} + 2 x y$"
      ],
      "text/plain": [
       "   2  2        \n",
       "6⋅x ⋅y  + 2⋅x⋅y"
      ]
     },
     "execution_count": 36,
     "metadata": {},
     "output_type": "execute_result"
    }
   ],
   "source": [
    "# частная производная по у\n",
    "\n",
    "diff((2*x**2*y**3 + 1/x + y**2*x + 7), y)"
   ]
  },
  {
   "cell_type": "code",
   "execution_count": 38,
   "metadata": {},
   "outputs": [],
   "source": [
    "def f_y(x, y):\n",
    "    return 6*𝑥**2*𝑦**2 + 2*𝑥*𝑦"
   ]
  },
  {
   "cell_type": "code",
   "execution_count": 39,
   "metadata": {},
   "outputs": [
    {
     "data": {
      "image/png": "[encoded data removed]",
      "text/latex": [
       "$\\displaystyle 28$"
      ],
      "text/plain": [
       "28"
      ]
     },
     "execution_count": 39,
     "metadata": {},
     "output_type": "execute_result"
    }
   ],
   "source": [
    "f_y(1, 2)"
   ]
  },
  {
   "cell_type": "code",
   "execution_count": null,
   "metadata": {},
   "outputs": [],
   "source": []
  },
  {
   "cell_type": "markdown",
   "metadata": {},
   "source": [
    "2)  𝑓(𝑥,𝑦)=𝑥2𝑦−𝑠𝑖𝑛(𝑥𝑦)+𝑐𝑜𝑠(𝑥2)+6𝑦"
   ]
  },
  {
   "cell_type": "code",
   "execution_count": 20,
   "metadata": {},
   "outputs": [
    {
     "data": {
      "image/png": "[encoded data removed]",
      "text/latex": [
       "$\\displaystyle 2 x y - 2 x \\sin{\\left(x^{2} \\right)} - y \\cos{\\left(x y \\right)}$"
      ],
      "text/plain": [
       "               ⎛ 2⎞             \n",
       "2⋅x⋅y - 2⋅x⋅sin⎝x ⎠ - y⋅cos(x⋅y)"
      ]
     },
     "execution_count": 20,
     "metadata": {},
     "output_type": "execute_result"
    }
   ],
   "source": [
    "# частная производная по х\n",
    "\n",
    "diff((x**2*y - sin(x*y) + cos(x**2) + 6*y), x)"
   ]
  },
  {
   "cell_type": "code",
   "execution_count": 41,
   "metadata": {},
   "outputs": [],
   "source": [
    "def f_x(x, y):\n",
    "    return 2*y*x - 2*x*np.sin(x**2) - y*np.cos(x*y)"
   ]
  },
  {
   "cell_type": "code",
   "execution_count": 42,
   "metadata": {},
   "outputs": [
    {
     "data": {
      "image/png": "[encoded data removed]",
      "text/latex": [
       "$\\displaystyle 3.1493517034784917$"
      ],
      "text/plain": [
       "3.1493517034784917"
      ]
     },
     "execution_count": 42,
     "metadata": {},
     "output_type": "execute_result"
    }
   ],
   "source": [
    "f_x(1, 2)"
   ]
  },
  {
   "cell_type": "code",
   "execution_count": 21,
   "metadata": {},
   "outputs": [
    {
     "data": {
      "image/png": "[encoded data removed]",
      "text/latex": [
       "$\\displaystyle x^{2} - x \\cos{\\left(x y \\right)} + 6$"
      ],
      "text/plain": [
       " 2                 \n",
       "x  - x⋅cos(x⋅y) + 6"
      ]
     },
     "execution_count": 21,
     "metadata": {},
     "output_type": "execute_result"
    }
   ],
   "source": [
    "# частная производная по y\n",
    "\n",
    "diff((x**2*y - sin(x*y) + cos(x**2) + 6*y), y)"
   ]
  },
  {
   "cell_type": "code",
   "execution_count": 44,
   "metadata": {},
   "outputs": [],
   "source": [
    "def f_y(x, y):\n",
    "    return x**2 - x*np.cos(x*y) + 6"
   ]
  },
  {
   "cell_type": "code",
   "execution_count": 45,
   "metadata": {},
   "outputs": [
    {
     "data": {
      "image/png": "[encoded data removed]",
      "text/latex": [
       "$\\displaystyle 7.416146836547142$"
      ],
      "text/plain": [
       "7.416146836547142"
      ]
     },
     "execution_count": 45,
     "metadata": {},
     "output_type": "execute_result"
    }
   ],
   "source": [
    "f_y(1, 2)"
   ]
  },
  {
   "cell_type": "code",
   "execution_count": null,
   "metadata": {},
   "outputs": [],
   "source": []
  },
  {
   "cell_type": "markdown",
   "metadata": {},
   "source": [
    "Задание 2:  \n",
    "Градиентный спуск своими руками"
   ]
  },
  {
   "cell_type": "code",
   "execution_count": 93,
   "metadata": {},
   "outputs": [],
   "source": [
    "def f(x):\n",
    "    return (x[0]**2) + (x[1]**2)"
   ]
  },
  {
   "cell_type": "code",
   "execution_count": 148,
   "metadata": {},
   "outputs": [],
   "source": [
    "x = np.array([100, 200])\n",
    "lr = 0.1"
   ]
  },
  {
   "cell_type": "code",
   "execution_count": 95,
   "metadata": {},
   "outputs": [],
   "source": [
    "from scipy.optimize import approx_fprime"
   ]
  },
  {
   "cell_type": "code",
   "execution_count": 146,
   "metadata": {},
   "outputs": [
    {
     "name": "stdout",
     "output_type": "stream",
     "text": [
      "Wall time: 237 ms\n"
     ]
    }
   ],
   "source": [
    "%%time\n",
    "for i in range(10000):\n",
    "    grad = approx_fprime(x, f, lr)\n",
    "    \n",
    "    x = x - lr*grad    "
   ]
  },
  {
   "cell_type": "code",
   "execution_count": 147,
   "metadata": {},
   "outputs": [
    {
     "name": "stdout",
     "output_type": "stream",
     "text": [
      "Минимум достигается в:  [-0.05 -0.05]\n",
      "Значение функции в минимуме:  0.0049999999999999975\n"
     ]
    }
   ],
   "source": [
    "print(\"Минимум достигается в: \", x)\n",
    "print(\"Значение функции в минимуме: \", f(x))"
   ]
  },
  {
   "cell_type": "markdown",
   "metadata": {},
   "source": [
    "Проверка с помощью встроенной функции numpy:"
   ]
  },
  {
   "cell_type": "code",
   "execution_count": 149,
   "metadata": {},
   "outputs": [],
   "source": [
    "for i in range(100):\n",
    "    grad = np.gradient(x)\n",
    "    \n",
    "    x = x - lr*grad"
   ]
  },
  {
   "cell_type": "code",
   "execution_count": 150,
   "metadata": {},
   "outputs": [
    {
     "name": "stdout",
     "output_type": "stream",
     "text": [
      "Минимум достигается в:  [-900. -800.]\n",
      "Значение функции в минимуме:  1450000.0\n"
     ]
    }
   ],
   "source": [
    "print(\"Минимум достигается в: \", x)\n",
    "print(\"Значение функции в минимуме: \", f(x))"
   ]
  },
  {
   "cell_type": "code",
   "execution_count": null,
   "metadata": {},
   "outputs": [],
   "source": []
  }
 ],
 "metadata": {
  "kernelspec": {
   "display_name": "Python 3",
   "language": "python",
   "name": "python3"
  },
  "language_info": {
   "codemirror_mode": {
    "name": "ipython",
    "version": 3
   },
   "file_extension": ".py",
   "mimetype": "text/x-python",
   "name": "python",
   "nbconvert_exporter": "python",
   "pygments_lexer": "ipython3",
   "version": "3.7.3"
  }
 },
 "nbformat": 4,
 "nbformat_minor": 2
}
