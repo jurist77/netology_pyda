{
 "cells": [
  {
   "cell_type": "markdown",
   "metadata": {},
   "source": [
    "#### Задание 1.\n",
    "\n",
    "Написать функцию отображения элементов одного множества в другое. Первое множество - художники, второе множество - картины художников. Множество художников - Серов, Левитан, Репин, Васнецов, Шишкин. Множество картин - \"Утро в сосновом бору\", \"Богатыри\", \"Золотая осень\", \"Девочка с персиками\", \"Запорожцы\", \"Буралки на Волге\", \"Март\", \"Алёнушка\"."
   ]
  },
  {
   "cell_type": "code",
   "execution_count": 6,
   "metadata": {},
   "outputs": [],
   "source": [
    "# Задаю множество художников\n",
    "\n",
    "artists = set(['Серов', 'Левитан', 'Репин', 'Васнецов', 'Шишкин'])"
   ]
  },
  {
   "cell_type": "code",
   "execution_count": 11,
   "metadata": {},
   "outputs": [],
   "source": [
    "# создаю словарь в котором художник - ключ, картина - значение\n",
    "\n",
    "dict_paint = {}\n",
    "dict_paint['Серов'] = [\"Девочка с персиками\"]\n",
    "dict_paint['Левитан'] = [\"Золотая осень\", \"Март\"]\n",
    "dict_paint['Репин'] = [\"Запорожцы\", \"Буралки на Волге\"]\n",
    "dict_paint['Васнецов'] = [\"Богатыри\", \"Алёнушка\"]\n",
    "dict_paint['Шишкин'] = [\"Утро в сосновом бору\"]"
   ]
  },
  {
   "cell_type": "code",
   "execution_count": 12,
   "metadata": {},
   "outputs": [
    {
     "data": {
      "text/plain": [
       "{'Серов': ['Девочка с персиками'],\n",
       " 'Левитан': ['Золотая осень', 'Март'],\n",
       " 'Репин': ['Запорожцы', 'Буралки на Волге'],\n",
       " 'Васнецов': ['Богатыри', 'Алёнушка'],\n",
       " 'Шишкин': ['Утро в сосновом бору']}"
      ]
     },
     "execution_count": 12,
     "metadata": {},
     "output_type": "execute_result"
    }
   ],
   "source": [
    "dict_paint"
   ]
  },
  {
   "cell_type": "markdown",
   "metadata": {},
   "source": [
    "#### Задание 2. Найти из следующих функций те, которые являются полиномиальной функцией.\n",
    "\n",
    "$$f(x)=\\frac{1}{2}x^{6}-1\\frac{5}{6}x+\\frac{1}{3}$$\n",
    "$$f(x)=\\frac{3x^{6}-11x+2}{6}$$\n",
    "$$f(x)=x^{5}-3x^{2}+7x^{-2}$$\n",
    "$$f(x)=(5x^{2}-2)^3-\\frac{1}{2}x^{3}$$\n",
    "$$f(x)=(1+\\sqrt{x})^{3}-5(1+\\sqrt{x})$$\n",
    "$$f(x)=\\pi $$"
   ]
  },
  {
   "cell_type": "markdown",
   "metadata": {},
   "source": [
    "Полиномиальной функцией являются все кроме:\n",
    "$$f(x)=x^{5}-3x^{2}+7x^{-2}$$\n",
    "т.к. имеет отрицательную степень\n",
    "$$f(x)=(1+\\sqrt{x})^{3}-5(1+\\sqrt{x})$$\n",
    "т.к. переменная находится под корнем\n",
    "$$f(x)=\\frac{3x^{6}-11x+2}{6x}$$\n",
    "т.к. один из членов функции находится в знаменателе"
   ]
  },
  {
   "cell_type": "markdown",
   "metadata": {},
   "source": [
    "#### Задание 3. Раскрыть скобки для следующего полинома$$(2x+1)^{2}(x-1)-x(4x^{2}-1)-x(4x^{2}-1)=ax^3+bx^2+cx+d$$"
   ]
  },
  {
   "cell_type": "markdown",
   "metadata": {},
   "source": [
    "$$-4x^3-4x^2+3x=ax^3+bx^2+cx+d$$"
   ]
  },
  {
   "cell_type": "markdown",
   "metadata": {},
   "source": [
    "#### найти коэффициенты для a, b, c, d."
   ]
  },
  {
   "cell_type": "markdown",
   "metadata": {},
   "source": [
    "a = -4  \n",
    "b = -4  \n",
    "c = 3  \n",
    "d = 0  "
   ]
  },
  {
   "cell_type": "markdown",
   "metadata": {},
   "source": [
    "#### Чему равна степень полинома?"
   ]
  },
  {
   "cell_type": "markdown",
   "metadata": {},
   "source": [
    "Степень полинома равна 3"
   ]
  },
  {
   "cell_type": "markdown",
   "metadata": {},
   "source": [
    "#### Нарисовать график для полинома."
   ]
  },
  {
   "cell_type": "code",
   "execution_count": 32,
   "metadata": {},
   "outputs": [],
   "source": [
    "import matplotlib.pyplot as plt\n",
    "import numpy as np"
   ]
  },
  {
   "cell_type": "code",
   "execution_count": 48,
   "metadata": {},
   "outputs": [
    {
     "data": {
      "text/plain": [
       "<matplotlib.lines.Line2D at 0x28c1b6ffcc0>"
      ]
     },
     "execution_count": 48,
     "metadata": {},
     "output_type": "execute_result"
    },
    {
     "data": {
      "image/png": "[encoded data removed]",
      "text/plain": [
       "<Figure size 432x288 with 1 Axes>"
      ]
     },
     "metadata": {
      "needs_background": "light"
     },
     "output_type": "display_data"
    }
   ],
   "source": [
    "x = np.linspace(-2, 2, 100)\n",
    "y = [-4*x[i]**3 - 4*x[i]**2 + 3*x[i] for i in range(len(x))]\n",
    "plt.plot(x, y)\n",
    "plt.axvline(0, color='g')\n",
    "plt.axhline(0, color='g')"
   ]
  },
  {
   "cell_type": "markdown",
   "metadata": {},
   "source": [
    "#### Задание 4. Для заданных функций найти подходящий график (не все функции имеют график):  \n",
    "$\\frac{3}{4}x-1$,  пятая картинка (прямая с острым углом)\n",
    "\n",
    "$\\frac{3}{4}x+2$, \n",
    "\n",
    "$2-2x$,  первая картинка (прямая с тупым углом)\n",
    "\n",
    "$2+2x$,  \n",
    "\n",
    "$\\frac{1}{4}(x+1)^{2}-2 $,  четвертая картинка (широкая парабола вверх, абсцисса вершины < 0)\n",
    "\n",
    "$\\frac{1}{4}(x-1)^2-2$,  \n",
    "\n",
    "$(x-1)(x-3)$,  шестая картинка (узкая парабола вверх, абсцисса вершины > 0)\n",
    "\n",
    "$(x+1)(x+3)$,  \n",
    "\n",
    "$2-x^2$,  третья картинка (узкая парабола вниз, вершина на оси у)\n",
    "\n",
    "$2-\\frac{1}{4}x^2$ вторая картинка (широкая парабола вверх, вершина на оси у)\n",
    "\n"
   ]
  },
  {
   "cell_type": "markdown",
   "metadata": {},
   "source": [
    "#### Задания повышенного уровня\n",
    "\n",
    "Почему следующие функции не являются полиномиальными?  \n",
    "$y=5x^{-2}+1$  функция имеет отрицательную степень  \n",
    "$y=3x^{1/2}+2$   степень не удволетворяет требованию натурального числа  \n",
    "$y=(5x+1)/(3x)$  один из членов функции находится в знаменателе"
   ]
  },
  {
   "cell_type": "markdown",
   "metadata": {},
   "source": [
    "Найдите наибольшее и наименьшее значение функции $y = x^3 + 2x^2 + x + 3 $ на отрезке [-4;-1]."
   ]
  },
  {
   "cell_type": "code",
   "execution_count": 49,
   "metadata": {},
   "outputs": [
    {
     "data": {
      "text/plain": [
       "[<matplotlib.lines.Line2D at 0x28c1c73cdd8>]"
      ]
     },
     "execution_count": 49,
     "metadata": {},
     "output_type": "execute_result"
    },
    {
     "data": {
      "image/png": "[encoded data removed]",
      "text/plain": [
       "<Figure size 432x288 with 1 Axes>"
      ]
     },
     "metadata": {
      "needs_background": "light"
     },
     "output_type": "display_data"
    }
   ],
   "source": [
    "x = np.linspace(-4, -1, 100)\n",
    "y = [x[i]**3 + 2*x[i]**2 + x[i] +3 for i in range(len(x))]\n",
    "plt.plot(x, y)"
   ]
  },
  {
   "cell_type": "code",
   "execution_count": 53,
   "metadata": {},
   "outputs": [
    {
     "name": "stdout",
     "output_type": "stream",
     "text": [
      "Значение х при котором у минимально: -4.0\n",
      "Минимальное значение функции: -33.0\n",
      "Значение х при котором у максимально: -1.0\n",
      "Максимальное значение функции: 3.0\n"
     ]
    }
   ],
   "source": [
    "min_x = np.argmin(y)\n",
    "print(f'Значение х при котором у минимально: {x[min_x]}')\n",
    "print(f'Минимальное значение функции: {min(y)}')\n",
    "max_x = np.argmax(y)\n",
    "print(f'Значение х при котором у максимально: {x[max_x]}')\n",
    "print(f'Максимальное значение функции: {max(y)}')"
   ]
  },
  {
   "cell_type": "markdown",
   "metadata": {},
   "source": [
    "Пример линейной регрессии - это применение полиномов на практике. В следующем примере дан датасет x, y, сгенерированный рандомно. Мы можем использовать линейную регрессию, чтобы предсказать значение переменной y от x."
   ]
  },
  {
   "cell_type": "code",
   "execution_count": 59,
   "metadata": {},
   "outputs": [],
   "source": [
    "from sklearn.linear_model import LinearRegression\n",
    "\n",
    "np.random.seed(0)\n",
    "x = 2 - 3 * np.random.normal(0, 1, 20)\n",
    "y = x - 2 * (x ** 2) + 0.5 * (x ** 3) + np.random.normal(-3, 3, 20)\n",
    "\n",
    "# transforming the data to include another axis\n",
    "x = x[:, np.newaxis]\n",
    "y = y[:, np.newaxis]\n",
    "\n",
    "model = LinearRegression()\n",
    "# написать линейную регрессию\n",
    "\n",
    "model.fit(x, y)\n",
    "\n",
    "y_pred = model.predict(x)\n"
   ]
  },
  {
   "cell_type": "code",
   "execution_count": 62,
   "metadata": {
    "scrolled": false
   },
   "outputs": [
    {
     "data": {
      "text/plain": [
       "[<matplotlib.lines.Line2D at 0x28c1ded0c50>]"
      ]
     },
     "execution_count": 62,
     "metadata": {},
     "output_type": "execute_result"
    },
    {
     "data": {
      "image/png": "[encoded data removed]",
      "text/plain": [
       "<Figure size 432x288 with 1 Axes>"
      ]
     },
     "metadata": {
      "needs_background": "light"
     },
     "output_type": "display_data"
    }
   ],
   "source": [
    "plt.scatter(x, y)\n",
    "plt.plot(x, y_pred, color=\"g\")"
   ]
  },
  {
   "cell_type": "code",
   "execution_count": 98,
   "metadata": {},
   "outputs": [],
   "source": [
    "from sklearn.metrics import r2_score"
   ]
  },
  {
   "cell_type": "code",
   "execution_count": 102,
   "metadata": {
    "scrolled": false
   },
   "outputs": [
    {
     "name": "stdout",
     "output_type": "stream",
     "text": [
      "Коэфициент детерминации: 0.64\n"
     ]
    }
   ],
   "source": [
    "print(f'Коэфициент детерминации: {r2_score(y, y_pred):.2f}')"
   ]
  },
  {
   "cell_type": "markdown",
   "metadata": {},
   "source": [
    "Как видим из графика и коэф детерминации качество линейной модели очень низкое.  \n",
    "\n",
    "Применим к этой задачи полиномиальную регрессию"
   ]
  },
  {
   "cell_type": "code",
   "execution_count": 92,
   "metadata": {},
   "outputs": [],
   "source": [
    "from sklearn.preprocessing import PolynomialFeatures\n",
    "\n",
    "poly = PolynomialFeatures(degree=3)\n",
    "x_poly = poly.fit_transform(x)\n",
    "\n",
    "model = LinearRegression()\n",
    "model_poly =  model.fit(x_poly, y)\n",
    "\n",
    "y_pred_poly = model_poly.predict(x_poly)"
   ]
  },
  {
   "cell_type": "code",
   "execution_count": 97,
   "metadata": {},
   "outputs": [
    {
     "data": {
      "text/plain": [
       "<matplotlib.collections.PathCollection at 0x28c1e034eb8>"
      ]
     },
     "execution_count": 97,
     "metadata": {},
     "output_type": "execute_result"
    },
    {
     "data": {
      "image/png": "[encoded data removed]",
      "text/plain": [
       "<Figure size 432x288 with 1 Axes>"
      ]
     },
     "metadata": {
      "needs_background": "light"
     },
     "output_type": "display_data"
    }
   ],
   "source": [
    "plt.scatter(x, y)\n",
    "plt.scatter(x, y_pred_poly, color=\"g\")"
   ]
  },
  {
   "cell_type": "code",
   "execution_count": 103,
   "metadata": {},
   "outputs": [
    {
     "name": "stdout",
     "output_type": "stream",
     "text": [
      "Коэфициент детерминации: 0.98\n"
     ]
    }
   ],
   "source": [
    "print(f'Коэфициент детерминации: {r2_score(y, y_pred_poly):.2f}')"
   ]
  },
  {
   "cell_type": "markdown",
   "metadata": {},
   "source": [
    "Эта модель предсказывает значения с высокой точностью"
   ]
  },
  {
   "cell_type": "code",
   "execution_count": null,
   "metadata": {},
   "outputs": [],
   "source": []
  },
  {
   "cell_type": "code",
   "execution_count": null,
   "metadata": {},
   "outputs": [],
   "source": []
  }
 ],
 "metadata": {
  "kernelspec": {
   "display_name": "Python 3",
   "language": "python",
   "name": "python3"
  },
  "language_info": {
   "codemirror_mode": {
    "name": "ipython",
    "version": 3
   },
   "file_extension": ".py",
   "mimetype": "text/x-python",
   "name": "python",
   "nbconvert_exporter": "python",
   "pygments_lexer": "ipython3",
   "version": "3.7.3"
  }
 },
 "nbformat": 4,
 "nbformat_minor": 2
}
