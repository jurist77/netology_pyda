{
 "cells": [
  {
   "cell_type": "markdown",
   "metadata": {},
   "source": [
    "### Домашнее задание. Гибридные рекомендательные системы\n",
    "\n",
    "1. Датасет ml-latest\n",
    "2. Вспомнить подходы, которые мы разбирали\n",
    "3. Выбрать понравившийся подход к гибридным системам\n",
    "4. Написать свою"
   ]
  },
  {
   "cell_type": "code",
   "execution_count": 80,
   "metadata": {},
   "outputs": [],
   "source": [
    "from surprise import KNNWithMeans, KNNBasic, SVD, BaselineOnly\n",
    "from surprise import Dataset\n",
    "from surprise import accuracy\n",
    "from surprise import Reader\n",
    "from surprise.model_selection import train_test_split\n",
    "import pandas as pd\n",
    "import numpy as np\n",
    "from surprise.model_selection import cross_validate\n",
    "from surprise.model_selection import GridSearchCV"
   ]
  },
  {
   "cell_type": "markdown",
   "metadata": {},
   "source": [
    "для построения рекомендации будем использовать следующий подход: \n",
    "- делаем прогноз рейтинга на датасете для всех пользователей (используем SVD)\n",
    "- определяем пользоватеся \n",
    "- формируем список фильмов, которые пользователь не смотрел\n",
    "- сортируем по прогнозному рейтингу для этого пользователя, берем в работу 10 наилучших\n",
    "- добавляем к потенциальным рейтингам пользователя, метрику средней оценки фильма, остальных пользователей\n",
    "- создаем итоговую метрику, которая с весом 70% берет информацию о рейтинге из прогнозного пользователя и на 30% берет информацию о рейтинге из среднее данного другими пользователями\n",
    "- отдаем в рекомендацию три фильма на основе финальной метрики"
   ]
  },
  {
   "cell_type": "code",
   "execution_count": 81,
   "metadata": {},
   "outputs": [],
   "source": [
    "movies = pd.read_csv('movies.csv')\n",
    "ratings = pd.read_csv('ratings.csv')"
   ]
  },
  {
   "cell_type": "code",
   "execution_count": 82,
   "metadata": {},
   "outputs": [],
   "source": [
    "data = movies.join(ratings.set_index('movieId'), on='movieId').reset_index(drop=True)\n",
    "data.dropna(inplace=True)"
   ]
  },
  {
   "cell_type": "markdown",
   "metadata": {},
   "source": [
    "строим модель для предсказания рейтинга пользователя"
   ]
  },
  {
   "cell_type": "code",
   "execution_count": 83,
   "metadata": {},
   "outputs": [],
   "source": [
    "# задаем датасет в формате surprise\n",
    "dataset = pd.DataFrame({\n",
    "    'uid': data.userId,\n",
    "    'iid': data.title,\n",
    "    'rating': data.rating\n",
    "})"
   ]
  },
  {
   "cell_type": "code",
   "execution_count": 84,
   "metadata": {},
   "outputs": [],
   "source": [
    "reader = Reader(rating_scale=(0.5, 5.0))\n",
    "data_surprise = Dataset.load_from_df(dataset, reader)"
   ]
  },
  {
   "cell_type": "code",
   "execution_count": 85,
   "metadata": {},
   "outputs": [],
   "source": [
    "trainset, testset = train_test_split(data_surprise, test_size=.15, random_state=42)"
   ]
  },
  {
   "cell_type": "code",
   "execution_count": 86,
   "metadata": {},
   "outputs": [
    {
     "data": {
      "text/plain": [
       "<surprise.prediction_algorithms.matrix_factorization.SVD at 0x1ab680500b8>"
      ]
     },
     "execution_count": 86,
     "metadata": {},
     "output_type": "execute_result"
    }
   ],
   "source": [
    "# обучаем модель \n",
    "algo = SVD(n_factors=20, n_epochs=20)\n",
    "algo.fit(trainset)"
   ]
  },
  {
   "cell_type": "code",
   "execution_count": 87,
   "metadata": {},
   "outputs": [
    {
     "name": "stdout",
     "output_type": "stream",
     "text": [
      "RMSE: 0.8689\n"
     ]
    },
    {
     "data": {
      "text/plain": [
       "0.8688912847922808"
      ]
     },
     "execution_count": 87,
     "metadata": {},
     "output_type": "execute_result"
    }
   ],
   "source": [
    "# делаем оценку качества на тесте\n",
    "test_pred = algo.test(testset)\n",
    "\n",
    "accuracy.rmse(test_pred, verbose=True)"
   ]
  },
  {
   "cell_type": "code",
   "execution_count": 32,
   "metadata": {},
   "outputs": [
    {
     "name": "stdout",
     "output_type": "stream",
     "text": [
      "Evaluating RMSE of algorithm SVD on 5 split(s).\n",
      "\n",
      "                  Fold 1  Fold 2  Fold 3  Fold 4  Fold 5  Mean    Std     \n",
      "RMSE (testset)    0.8713  0.8725  0.8697  0.8618  0.8688  0.8688  0.0037  \n",
      "Fit time          4.62    4.29    5.58    4.24    4.45    4.64    0.49    \n",
      "Test time         0.24    1.50    0.22    0.26    0.42    0.53    0.49    \n"
     ]
    }
   ],
   "source": [
    "# оценка на кросс валидации\n",
    "cros_val = cross_validate(algo, data_surprise, measures=['RMSE'], cv=5, verbose=True)\n",
    "RMSE_mean = cros_val['test_rmse'].mean()"
   ]
  },
  {
   "cell_type": "code",
   "execution_count": 33,
   "metadata": {},
   "outputs": [
    {
     "name": "stdout",
     "output_type": "stream",
     "text": [
      "0.8688230277116394\n"
     ]
    }
   ],
   "source": [
    "print(RMSE_mean)"
   ]
  },
  {
   "cell_type": "code",
   "execution_count": 88,
   "metadata": {},
   "outputs": [],
   "source": [
    "# определяем пользователя и фильмы которые он посмотрел\n",
    "user = 7.0\n",
    "user_movies = data[data.userId == user].title.unique()"
   ]
  },
  {
   "cell_type": "code",
   "execution_count": 89,
   "metadata": {},
   "outputs": [],
   "source": [
    "# формируем списки по предсказанию и наименовнию фильма\n",
    "pred_rating = []\n",
    "titles = []\n",
    "\n",
    "for movie in data.title.unique():\n",
    "    if movie in user_movies:\n",
    "        continue\n",
    "        \n",
    "    pred_rating.append(algo.predict(uid=user, iid=movie).est)\n",
    "    titles.append(movie)"
   ]
  },
  {
   "cell_type": "code",
   "execution_count": 90,
   "metadata": {},
   "outputs": [],
   "source": [
    "# база фильмов которые пользователь не смотрел и прогнозный рейтинг фильму от пользователя\n",
    "movies_not_watch = pd.DataFrame({'title': titles, 'pred_r': pred_rating})"
   ]
  },
  {
   "cell_type": "code",
   "execution_count": 91,
   "metadata": {},
   "outputs": [],
   "source": [
    "# берем топ 10 фильмом из потенциального прогноза пользователя\n",
    "most_interesting = movies_not_watch.sort_values(by='pred_r', ascending=False)[:10]"
   ]
  },
  {
   "cell_type": "code",
   "execution_count": 92,
   "metadata": {},
   "outputs": [],
   "source": [
    "# формируем базу фильмов с средним рейтингом по фактическим оценкам пользователя\n",
    "movies_with_mean_rating = pd.DataFrame(data.groupby('title').rating.mean()).reset_index()"
   ]
  },
  {
   "cell_type": "code",
   "execution_count": 153,
   "metadata": {},
   "outputs": [],
   "source": [
    "# задаем функцию которая добавит средний рейтинг\n",
    "def add_mean(row):\n",
    "    return movies_with_mean_rating[movies_with_mean_rating.title == row].rating.sum()"
   ]
  },
  {
   "cell_type": "code",
   "execution_count": 154,
   "metadata": {},
   "outputs": [],
   "source": [
    "# в понтенциальные топ 10 добавляем фактический средний рейтинг\n",
    "most_interesting['mean_rating'] = most_interesting.title.apply(add_mean)"
   ]
  },
  {
   "cell_type": "code",
   "execution_count": 156,
   "metadata": {},
   "outputs": [],
   "source": [
    "# создаем метрику которая взвешивает два подхода на 70/30 процентов\n",
    "most_interesting['common_rating'] = most_interesting.pred_r*0.7 + most_interesting.mean_rating*0.3"
   ]
  },
  {
   "cell_type": "code",
   "execution_count": 160,
   "metadata": {},
   "outputs": [],
   "source": [
    "# формируем топ 3 рекомендации, на основе финальной метрики\n",
    "recommend_for_user = most_interesting.sort_values(by='common_rating', ascending=False)[:3][['title', 'common_rating']]"
   ]
  },
  {
   "cell_type": "code",
   "execution_count": 161,
   "metadata": {},
   "outputs": [
    {
     "data": {
      "text/html": [
       "<div>\n",
       "<style scoped>\n",
       "    .dataframe tbody tr th:only-of-type {\n",
       "        vertical-align: middle;\n",
       "    }\n",
       "\n",
       "    .dataframe tbody tr th {\n",
       "        vertical-align: top;\n",
       "    }\n",
       "\n",
       "    .dataframe thead th {\n",
       "        text-align: right;\n",
       "    }\n",
       "</style>\n",
       "<table border=\"1\" class=\"dataframe\">\n",
       "  <thead>\n",
       "    <tr style=\"text-align: right;\">\n",
       "      <th></th>\n",
       "      <th>title</th>\n",
       "      <th>common_rating</th>\n",
       "    </tr>\n",
       "  </thead>\n",
       "  <tbody>\n",
       "    <tr>\n",
       "      <th>881</th>\n",
       "      <td>Lawrence of Arabia (1962)</td>\n",
       "      <td>4.237129</td>\n",
       "    </tr>\n",
       "    <tr>\n",
       "      <th>887</th>\n",
       "      <td>Goodfellas (1990)</td>\n",
       "      <td>4.204081</td>\n",
       "    </tr>\n",
       "    <tr>\n",
       "      <th>806</th>\n",
       "      <td>Reservoir Dogs (1992)</td>\n",
       "      <td>4.180371</td>\n",
       "    </tr>\n",
       "  </tbody>\n",
       "</table>\n",
       "</div>"
      ],
      "text/plain": [
       "                         title  common_rating\n",
       "881  Lawrence of Arabia (1962)       4.237129\n",
       "887          Goodfellas (1990)       4.204081\n",
       "806      Reservoir Dogs (1992)       4.180371"
      ]
     },
     "execution_count": 161,
     "metadata": {},
     "output_type": "execute_result"
    }
   ],
   "source": [
    "recommend_for_user"
   ]
  },
  {
   "cell_type": "code",
   "execution_count": null,
   "metadata": {},
   "outputs": [],
   "source": []
  },
  {
   "cell_type": "code",
   "execution_count": null,
   "metadata": {},
   "outputs": [],
   "source": []
  },
  {
   "cell_type": "code",
   "execution_count": null,
   "metadata": {},
   "outputs": [],
   "source": []
  },
  {
   "cell_type": "code",
   "execution_count": null,
   "metadata": {},
   "outputs": [],
   "source": []
  },
  {
   "cell_type": "code",
   "execution_count": null,
   "metadata": {},
   "outputs": [],
   "source": []
  },
  {
   "cell_type": "code",
   "execution_count": null,
   "metadata": {},
   "outputs": [],
   "source": []
  },
  {
   "cell_type": "code",
   "execution_count": null,
   "metadata": {},
   "outputs": [],
   "source": []
  },
  {
   "cell_type": "code",
   "execution_count": null,
   "metadata": {},
   "outputs": [],
   "source": []
  },
  {
   "cell_type": "code",
   "execution_count": null,
   "metadata": {},
   "outputs": [],
   "source": []
  },
  {
   "cell_type": "code",
   "execution_count": null,
   "metadata": {},
   "outputs": [],
   "source": []
  },
  {
   "cell_type": "code",
   "execution_count": null,
   "metadata": {},
   "outputs": [],
   "source": []
  },
  {
   "cell_type": "code",
   "execution_count": null,
   "metadata": {},
   "outputs": [],
   "source": []
  },
  {
   "cell_type": "code",
   "execution_count": null,
   "metadata": {},
   "outputs": [],
   "source": []
  },
  {
   "cell_type": "code",
   "execution_count": null,
   "metadata": {},
   "outputs": [],
   "source": []
  }
 ],
 "metadata": {
  "kernelspec": {
   "display_name": "Python 3",
   "language": "python",
   "name": "python3"
  },
  "language_info": {
   "codemirror_mode": {
    "name": "ipython",
    "version": 3
   },
   "file_extension": ".py",
   "mimetype": "text/x-python",
   "name": "python",
   "nbconvert_exporter": "python",
   "pygments_lexer": "ipython3",
   "version": "3.7.3"
  }
 },
 "nbformat": 4,
 "nbformat_minor": 2
}
