{
  "nbformat": 4,
  "nbformat_minor": 0,
  "metadata": {
    "kernelspec": {
      "display_name": "Python 3",
      "language": "python",
      "name": "python3"
    },
    "language_info": {
      "codemirror_mode": {
        "name": "ipython",
        "version": 3
      },
      "file_extension": ".py",
      "mimetype": "text/x-python",
      "name": "python",
      "nbconvert_exporter": "python",
      "pygments_lexer": "ipython3",
      "version": "3.7.3"
    },
    "colab": {
      "name": "CV_gradient.ipynb",
      "provenance": [],
      "collapsed_sections": []
    }
  },
  "cells": [
    {
      "cell_type": "markdown",
      "metadata": {
        "id": "UZKcyUA7bYg2",
        "colab_type": "text"
      },
      "source": [
        "# Реализация логистической регрессии в TensorFlow"
      ]
    },
    {
      "cell_type": "code",
      "metadata": {
        "scrolled": true,
        "id": "SrZArrPgbYg4",
        "colab_type": "code",
        "colab": {
          "base_uri": "https://localhost:8080/",
          "height": 50
        },
        "outputId": "16c227d0-2133-440f-95d2-84367221031c"
      },
      "source": [
        "import numpy as np\n",
        "import tensorflow as tf\n",
        "\n",
        "print(tf.__version__)\n",
        "print(tf.executing_eagerly())"
      ],
      "execution_count": 1,
      "outputs": [
        {
          "output_type": "stream",
          "text": [
            "2.3.0\n",
            "True\n"
          ],
          "name": "stdout"
        }
      ]
    },
    {
      "cell_type": "markdown",
      "metadata": {
        "id": "UhzATbhybYhF",
        "colab_type": "text"
      },
      "source": [
        "## Генерируем данные для задачи классификации"
      ]
    },
    {
      "cell_type": "code",
      "metadata": {
        "id": "tgFCrjNVbYhG",
        "colab_type": "code",
        "colab": {}
      },
      "source": [
        "NUM_FEATURES = 2    # число признаков\n",
        "NUM_SAMPLES = 1000  # число объектов"
      ],
      "execution_count": 2,
      "outputs": []
    },
    {
      "cell_type": "code",
      "metadata": {
        "id": "PK6jxWKRbYhM",
        "colab_type": "code",
        "colab": {}
      },
      "source": [
        "from sklearn.datasets import make_classification\n",
        "from sklearn.model_selection import train_test_split\n",
        "\n",
        "X, y = make_classification(n_samples = NUM_SAMPLES,\n",
        "                           n_features = NUM_FEATURES,\n",
        "                           n_informative = NUM_FEATURES,\n",
        "                           n_redundant = 0,\n",
        "                           n_classes = 2,\n",
        "                           n_clusters_per_class = 1,\n",
        "                           class_sep = 0.75,\n",
        "                           random_state = 54312)\n",
        "\n",
        "y = y.reshape(-1, 1)\n",
        "y = np.double(y)"
      ],
      "execution_count": 3,
      "outputs": []
    },
    {
      "cell_type": "code",
      "metadata": {
        "id": "AHkf8OrObYhS",
        "colab_type": "code",
        "colab": {
          "base_uri": "https://localhost:8080/",
          "height": 497
        },
        "outputId": "250a08de-9a16-4296-93b9-cb82e4779ac1"
      },
      "source": [
        "%matplotlib inline\n",
        "from matplotlib import pyplot as plt\n",
        "\n",
        "ones = np.where(y == 1)   # индексы объектов класса '1'\n",
        "zeros = np.where(y == 0)  # индексы объектов класса '0'\n",
        "\n",
        "plt.figure(figsize=(10, 8))\n",
        "plt.plot(X[ones, 0], X[ones, 1], 'ob',\n",
        "         X[zeros, 0], X[zeros, 1], 'or')\n",
        "plt.xlabel('X1')\n",
        "plt.ylabel('X2');"
      ],
      "execution_count": 4,
      "outputs": [
        {
          "output_type": "display_data",
          "data": {
            "image/png": "[encoded data removed]",
            "text/plain": [
              "<Figure size 720x576 with 1 Axes>"
            ]
          },
          "metadata": {
            "tags": [],
            "needs_background": "light"
          }
        }
      ]
    },
    {
      "cell_type": "markdown",
      "metadata": {
        "id": "iEvP_hEObYhY",
        "colab_type": "text"
      },
      "source": [
        "## Логистическая регрессия"
      ]
    },
    {
      "cell_type": "markdown",
      "metadata": {
        "id": "OiY_r3VCbYhZ",
        "colab_type": "text"
      },
      "source": [
        "$$p_i=\\frac{1}{1 + e^{-(x_i \\cdot w + b)}}$$\n",
        "\n",
        "$$loss=-\\sum y_i\\log(p_i) + (1 - y_i)\\log(1 - p_i)$$"
      ]
    },
    {
      "cell_type": "markdown",
      "metadata": {
        "id": "L1awQWnNbYha",
        "colab_type": "text"
      },
      "source": [
        "## Функции для обучения модели"
      ]
    },
    {
      "cell_type": "code",
      "metadata": {
        "id": "iy1jNykmbYhb",
        "colab_type": "code",
        "colab": {}
      },
      "source": [
        "@tf.custom_gradient\n",
        "def sigmoid(x):\n",
        "    x = tf.convert_to_tensor(x)\n",
        "    s = 1. / (1. + tf.exp(-x))\n",
        "    def grad(dy):\n",
        "         # TODO: реализовать шаг градиента для функции sigmoid\n",
        "      # dy = dy * (1 - dy)\n",
        "      dy = s * (1 - s)\n",
        "      return tf.zeros_like(dy)\n",
        "     \n",
        "    return s, grad\n",
        "\n",
        "def log_loss(y, prediction):\n",
        "    y = tf.convert_to_tensor(y)\n",
        "    loss = y * tf.math.log(prediction)\n",
        "    loss += (1. - y) * tf.math.log(1. - prediction)\n",
        "    return - tf.reduce_mean(loss)\n",
        "\n",
        "def accuracy(y, y_pred):\n",
        "    y_pred = np.where(y_pred > 0.5, 1., 0.)\n",
        "    return 1.0 * np.sum(y_pred == y) / len(y)"
      ],
      "execution_count": 13,
      "outputs": []
    },
    {
      "cell_type": "markdown",
      "metadata": {
        "id": "4Czg5wwYbYhi",
        "colab_type": "text"
      },
      "source": [
        "## Обучение модели"
      ]
    },
    {
      "cell_type": "code",
      "metadata": {
        "id": "2mIP0pRjbYhk",
        "colab_type": "code",
        "colab": {
          "base_uri": "https://localhost:8080/",
          "height": 521
        },
        "outputId": "d3122ad3-8078-41e2-81a1-5174c15dcab5"
      },
      "source": [
        "# создаем переменные для хранения весов модели\n",
        "w = tf.Variable(\n",
        "    np.random.normal(size=(NUM_FEATURES, 1)),\n",
        "    dtype=tf.double, name='w')\n",
        "\n",
        "b = tf.Variable(0.0, dtype=tf.double, name='b')\n",
        "\n",
        "# функция для вычисления предсказание модели\n",
        "def predict(x):\n",
        "    x = tf.convert_to_tensor(x)\n",
        "    d = tf.matmul(x, w)\n",
        "    return sigmoid(d + b)\n",
        "\n",
        "\n",
        "# разделяем выборку на обучающую и на тестовую группы\n",
        "(X_train, X_test,\n",
        " y_train, y_test) = train_test_split(X, y, \n",
        "                                     test_size=0.33,\n",
        "                                     random_state=12345)\n",
        "\n",
        "test_loss_results = []\n",
        "test_accuracy_results = []\n",
        "\n",
        "lr = 5e-2  # скорость обучения\n",
        "\n",
        "for i in range(300):\n",
        "    with tf.GradientTape() as g:\n",
        "        # вычисляем значение функции потерь для обучающей выборки\n",
        "        y_pred = predict(X_train)\n",
        "        loss = log_loss(y_train, y_pred)\n",
        "\n",
        "    # вычисляем значение градиента для параметров модели\n",
        "    dw, db = g.gradient(loss, [w, b])\n",
        "\n",
        "    # обновляем параметры модели с учетом значений градиентов\n",
        "    w.assign_sub(lr * dw)\n",
        "    b.assign_sub(lr * db)\n",
        "\n",
        "    if i % 10 == 0:\n",
        "        # логируем метрики на тестовой выборке\n",
        "        y_pred = predict(X_test)\n",
        "        test_loss_results.append(log_loss(np.double(y_test), y_pred).numpy())\n",
        "        test_accuracy_results.append(accuracy(y_test, y_pred.numpy()))\n",
        "        print('[%03d] loss=%.3f acc=%.3f' % (i,\n",
        "                                             test_loss_results[-1],\n",
        "                                             test_accuracy_results[-1]))"
      ],
      "execution_count": 14,
      "outputs": [
        {
          "output_type": "stream",
          "text": [
            "[000] loss=0.580 acc=0.597\n",
            "[010] loss=0.580 acc=0.597\n",
            "[020] loss=0.580 acc=0.597\n",
            "[030] loss=0.580 acc=0.597\n",
            "[040] loss=0.580 acc=0.597\n",
            "[050] loss=0.580 acc=0.597\n",
            "[060] loss=0.580 acc=0.597\n",
            "[070] loss=0.580 acc=0.597\n",
            "[080] loss=0.580 acc=0.597\n",
            "[090] loss=0.580 acc=0.597\n",
            "[100] loss=0.580 acc=0.597\n",
            "[110] loss=0.580 acc=0.597\n",
            "[120] loss=0.580 acc=0.597\n",
            "[130] loss=0.580 acc=0.597\n",
            "[140] loss=0.580 acc=0.597\n",
            "[150] loss=0.580 acc=0.597\n",
            "[160] loss=0.580 acc=0.597\n",
            "[170] loss=0.580 acc=0.597\n",
            "[180] loss=0.580 acc=0.597\n",
            "[190] loss=0.580 acc=0.597\n",
            "[200] loss=0.580 acc=0.597\n",
            "[210] loss=0.580 acc=0.597\n",
            "[220] loss=0.580 acc=0.597\n",
            "[230] loss=0.580 acc=0.597\n",
            "[240] loss=0.580 acc=0.597\n",
            "[250] loss=0.580 acc=0.597\n",
            "[260] loss=0.580 acc=0.597\n",
            "[270] loss=0.580 acc=0.597\n",
            "[280] loss=0.580 acc=0.597\n",
            "[290] loss=0.580 acc=0.597\n"
          ],
          "name": "stdout"
        }
      ]
    },
    {
      "cell_type": "markdown",
      "metadata": {
        "id": "rLr0mtEybYhq",
        "colab_type": "text"
      },
      "source": [
        "## Визуализируем кривую обучения"
      ]
    },
    {
      "cell_type": "code",
      "metadata": {
        "id": "pERVHY15bYhs",
        "colab_type": "code",
        "colab": {
          "base_uri": "https://localhost:8080/",
          "height": 558
        },
        "outputId": "943bc47d-d998-4dcd-ec54-649d51f1597a"
      },
      "source": [
        "fig, axes = plt.subplots(2, sharex=True, figsize=(10, 8))\n",
        "fig.suptitle('Metrics')\n",
        "\n",
        "axes[0].set_ylabel(\"Loss\", fontsize=14)\n",
        "axes[0].plot(test_loss_results)\n",
        "\n",
        "axes[1].set_ylabel(\"Accuracy\", fontsize=14)\n",
        "axes[1].set_xlabel(\"Epoch\", fontsize=14)\n",
        "axes[1].plot(test_accuracy_results)\n",
        "plt.show()"
      ],
      "execution_count": 15,
      "outputs": [
        {
          "output_type": "display_data",
          "data": {
            "image/png": "[encoded data removed]",
            "text/plain": [
              "<Figure size 720x576 with 2 Axes>"
            ]
          },
          "metadata": {
            "tags": [],
            "needs_background": "light"
          }
        }
      ]
    },
    {
      "cell_type": "markdown",
      "metadata": {
        "id": "ThtE60vjbYhx",
        "colab_type": "text"
      },
      "source": [
        "## Визуализируем разделяющую гиперплоскость "
      ]
    },
    {
      "cell_type": "code",
      "metadata": {
        "id": "ePxv18gwbYhy",
        "colab_type": "code",
        "colab": {
          "base_uri": "https://localhost:8080/",
          "height": 513
        },
        "outputId": "41f5ecfb-feed-4c88-a71a-9a4c6386dac9"
      },
      "source": [
        "w1, w2 = w.numpy()\n",
        "\n",
        "plane = - X[:, 0] * w1 / w2 - b.numpy() / w2\n",
        "\n",
        "order = np.argsort(X[:, 0])\n",
        "\n",
        "plt.figure(figsize=(10, 8))\n",
        "plt.title('Hyper plane: w1=%.3f w2=%.3f b=%.3f'\n",
        "          % (w1, w2, b.numpy()))\n",
        "\n",
        "plt.plot(X[ones, 0], X[ones, 1], 'ob',\n",
        "         X[zeros, 0], X[zeros, 1], 'or',\n",
        "         X[order, 0], plane[order], '-g')\n",
        "\n",
        "plt.xlabel('X1')\n",
        "plt.ylabel('X2');"
      ],
      "execution_count": 16,
      "outputs": [
        {
          "output_type": "display_data",
          "data": {
            "image/png": "[encoded data removed]",
            "text/plain": [
              "<Figure size 720x576 with 1 Axes>"
            ]
          },
          "metadata": {
            "tags": [],
            "needs_background": "light"
          }
        }
      ]
    },
    {
      "cell_type": "code",
      "metadata": {
        "id": "Ywr9bmFqcndL",
        "colab_type": "code",
        "colab": {}
      },
      "source": [
        ""
      ],
      "execution_count": null,
      "outputs": []
    }
  ]
}